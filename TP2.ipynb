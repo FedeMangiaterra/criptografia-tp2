{
 "cells": [
  {
   "attachments": {},
   "cell_type": "markdown",
   "id": "26c46c6b-81d9-41dc-b9f5-9cefe76670f0",
   "metadata": {},
   "source": [
    "# Trabajo Práctico 2: Pruebas de validez\n",
    "\n",
    "Las pruebas de validez nos permiten probar que un cómputo se ha realizado correctamente en un tiempo bastante menor que la verificación trivial, es decir, que el cómputo sea corrido de manera independiente por el verificador. En este trabajo práctico, nos enfocaremos en el sistema de pruebas STARKs en forma simplificada. Para el trabajo práctico, se podrá hacer uso de las herramientas provistas en https://github.com/starkware-industries/stark101 (python) o https://github.com/lambdaclass/STARK101-rs/tree/main (rust)."
   ]
  },
  {
   "attachments": {},
   "cell_type": "markdown",
   "id": "42188ac9-30d3-46cd-a8c6-630a7d0787e1",
   "metadata": {},
   "source": [
    "## Objetivo\n",
    "\n",
    "El objetivo consiste en probar la validez de un programa que calcula 2^{8^20} módulo p, utilizando diferentes estrategias y viendo el perfil de costos (tanto en términos de longitud de la prueba como de tiempo de generación). Las estrategias propuestas son:\n",
    "\n",
    "1. Considerar $a_0 = 2$ y $a_{n+1}=a_n^8$.\n",
    "2. Considerar $a_0 = 2$ y $a_{n+1}=a_n^2$.\n",
    "3. Considerar $a_0 = 2$ y $a_{2n+1}=a_{2n}^2$ y $a_{2n}=a_{2n-1}^4$.\n",
    "4. Usando 2 columnas\n",
    "\n",
    "Tener en cuenta que, dado el grado de las restricciones, se requiere usar un factor de expansión (blowup) por lo menos tan grande como el grado de las restricciones."
   ]
  },
  {
   "attachments": {},
   "cell_type": "markdown",
   "id": "638fa8d1-26d1-4c1e-bec4-175db30577a0",
   "metadata": {},
   "source": [
    "## Estrategia 1: $a_0 = 2$ y $a_{n+1}=a_n^8$"
   ]
  },
  {
   "attachments": {},
   "cell_type": "markdown",
   "id": "46a5954e-73d5-4186-9ac1-d6da346b4434",
   "metadata": {},
   "source": [
    "### Polinomio de la traza\n",
    "Primero vamos a generar la traza. La misma es una lista de 21 elementos, siendo el primero de ellos $a_0 = 2$ y siendo $a_n=a_{n-1}^8$ para $1 \\le n \\le 20$. De esta manera, el último elemento será $a_{20}=a_{19}^8=2^{8^{20}}$."
   ]
  },
  {
   "cell_type": "code",
   "execution_count": 165,
   "id": "266a5c55-b8ac-4d01-ba00-96c196b7659e",
   "metadata": {
    "tags": []
   },
   "outputs": [],
   "source": [
    "from utils.field import FieldElement\n",
    "\n",
    "a0 = FieldElement(2)\n",
    "a = [a0]\n",
    "for i in range(20):\n",
    "    a.append(a[-1]**8)"
   ]
  },
  {
   "cell_type": "code",
   "execution_count": 166,
   "id": "518997c3-2e28-401a-82c1-efdcfa2725db",
   "metadata": {
    "tags": []
   },
   "outputs": [
    {
     "name": "stdout",
     "output_type": "stream",
     "text": [
      "Traza creada correctamente\n"
     ]
    }
   ],
   "source": [
    "#Algunos chequeos de la traza\n",
    "assert len(a) == 21\n",
    "assert a[0] == FieldElement(2)\n",
    "assert a[-1] == FieldElement(2)**(8**20)\n",
    "print(\"Traza creada correctamente\")"
   ]
  },
  {
   "attachments": {},
   "cell_type": "markdown",
   "id": "5e02316a-48ed-4495-9016-174af96dd37e",
   "metadata": {},
   "source": [
    "Ahora hallamos un generador $g$ que nos permita generar un grupo de tamaño 21. \n",
    "\n",
    "Sabiendo que $g^k$ genera un grupo de tamaño $\\frac {|\\mathbb{F}^\\times|}{k}$ cuando $k$ divide a $|\\mathbb{F}^\\times|$, debemos hallar $k$ tal que:\n",
    "\n",
    "$\n",
    "21 = \\frac {|\\mathbb{F}^\\times|}{k} \\\\\n",
    "21 = \\frac{3221225472}{k} \\\\\n",
    "k = \\frac{3221225472}{21} = 153391689.143\n",
    "$\n",
    "\n",
    "Como vemos, $k$ nos queda como un número decimal. Entonces, debemos buscar un número potencia de 2 más próximo a 21 (y más grande) tal que divida a 3221225472, es decir, 32, por eso lo fijamos como el tamaño de nuestro grupo. Ahora sí, calculamos $k$\n",
    "\n",
    "$\n",
    "32 = \\frac {|\\mathbb{F}^\\times|}{k} \\\\\n",
    "32 = \\frac{3221225472}{k} \\\\\n",
    "k = \\frac{3221225472}{32} = 100663296\n",
    "$"
   ]
  },
  {
   "cell_type": "code",
   "execution_count": 167,
   "id": "fb78fa79-6230-453a-9557-5ed358aeada6",
   "metadata": {
    "tags": []
   },
   "outputs": [],
   "source": [
    "import math\n",
    "\n",
    "def get_group(generator, trace_len):\n",
    "    size = 2 ** math.ceil(math.log2(trace_len))\n",
    "    k = 3*(2**30)/size\n",
    "    g = generator ** (k)\n",
    "    G = [] \n",
    "    for i in range(size):\n",
    "        G.append(g**i)\n",
    "    \n",
    "    return g,G"
   ]
  },
  {
   "cell_type": "code",
   "execution_count": 168,
   "id": "25a8ff31-273e-4749-97c6-b2969e22ee5e",
   "metadata": {
    "tags": []
   },
   "outputs": [],
   "source": [
    "generator = FieldElement.generator()\n",
    "g,G = get_group(generator,len(a))"
   ]
  },
  {
   "cell_type": "code",
   "execution_count": 169,
   "id": "6ea8a0ce-2ebd-42ff-832b-5e90b1202905",
   "metadata": {
    "tags": []
   },
   "outputs": [
    {
     "name": "stdout",
     "output_type": "stream",
     "text": [
      "Grupo generado correctamente\n"
     ]
    }
   ],
   "source": [
    "#Algunos chequeos del grupo generado\n",
    "assert g.is_order(32), print(\"El grupo no tiene orden 32\")\n",
    "assert G[-1]*g == FieldElement(1), print(\"No es ciclico\")\n",
    "print(\"Grupo generado correctamente\")"
   ]
  },
  {
   "attachments": {},
   "cell_type": "markdown",
   "id": "84c4c447-c8cc-4bea-82e5-fd006036177d",
   "metadata": {},
   "source": [
    "Por último, para obtener el polinomio de la traza interpolamos los 21 puntos $(x_i,y_i)$ tal que:\n",
    "- $x_i$: es el elemento $i$ del grupo $G$ generado.\n",
    "- $y_i$: es el elemento $i$ de la traza"
   ]
  },
  {
   "cell_type": "code",
   "execution_count": 170,
   "id": "f7c3d2cf-83c8-4b97-a31a-5ff5e28e3e2d",
   "metadata": {
    "tags": []
   },
   "outputs": [],
   "source": [
    "from utils.polynomial import interpolate_poly\n",
    "f = interpolate_poly(G[:21],a)"
   ]
  },
  {
   "attachments": {},
   "cell_type": "markdown",
   "id": "bb7e0e38-bb2a-4450-bd50-d37dae596b63",
   "metadata": {},
   "source": [
    "### Expansión\n",
    "Ahora realizamos la expansión, donde evaluamos nuestro polinomio sobre un dominio más grande. Para eso, creamos un grupo nuevo $H$ el cual será 8 veces más grande que $G$ y posteriormente, obtenemos el dominio de evaluación tal que\n",
    "\n",
    "$$eval\\_domain = \\{w\\cdot h^i | 0 \\leq i <256  \\}$$"
   ]
  },
  {
   "cell_type": "code",
   "execution_count": 171,
   "id": "dd1891b4-f78b-432a-81b0-763aa4410041",
   "metadata": {
    "tags": []
   },
   "outputs": [],
   "source": [
    "from utils.merkle import MerkleTree\n",
    "from utils.channel import Channel\n",
    "\n",
    "def expand_domain(length):\n",
    "    w = FieldElement.generator()\n",
    "    h,H =get_group(w, length)\n",
    "    eval_domain = [w*(h**i) for i in range(len(H))]\n",
    "    return eval_domain\n",
    "\n",
    "#Obtenemos dominio de evaluacion\n",
    "eval_domain = expand_domain(len(G)*8)\n",
    "\n",
    "#Evaluamos en el polinomio de la traza\n",
    "f_eval = [f(x) for x in eval_domain]\n",
    "\n",
    "#Armamos el Merkle tree con las evaluaciones\n",
    "f_merkle = MerkleTree(f_eval)\n",
    "\n",
    "#Instanciamos un canal y enviamos la raíz del árbol\n",
    "channel = Channel()\n",
    "channel.send(f_merkle.root)"
   ]
  },
  {
   "attachments": {},
   "cell_type": "markdown",
   "id": "a3b2fdf6-a881-4f01-bf45-a692cccc1bef",
   "metadata": {},
   "source": [
    "### Restricciones"
   ]
  },
  {
   "attachments": {},
   "cell_type": "markdown",
   "id": "32f97be1-6e2a-4c5e-9e1c-3463b6737a64",
   "metadata": {
    "tags": []
   },
   "source": [
    "Tenemos tres restricciones a tener en cuenta:\n",
    "1. El primer elemento de la traza debe ser igual a $2$. Esto es $a[0] = 2$.\n",
    "2. El último elemento de la traza debe ser igual a $2^{8^{20}}$. Esto es $a[-1] = 2^{8^{20}} mod(p) = 1610563584$\n",
    "3. Se debe cumplir que $a[i] = a[i-1]^8$ para todo $1 \\leq i \\leq 20$\n",
    "\n",
    "<br>\n",
    "\n",
    "Podemos expresar estas restricciones en forma polinomial tal que:\n",
    "1. $f(x)-2$ que tiene como raíz $x=g^0=1$\n",
    "2. $f(x)-1610563584$ que tiene como raíz $x=g^{20}$\n",
    "3. $f(g·x) - f(x)^8$ que se anula cuando se evalua en $x$ tal que $x \\in G \\backslash \\{g^{i}|i \\geq 20\\}$\n",
    "\n",
    "<br>\n",
    "\n",
    "Luego, obtenemos las funciones racionales dividiendo las expresiones anteriores por $(x-x')$ tal que $x'$ es raíz de la función del numerador.\n",
    "\n",
    "#### Restricción 1\n",
    "$$\\frac{f(x)-2}{x-1}$$\n",
    "\n",
    "#### Restricción 2\n",
    "$$\\frac{f(x)-1610563584}{x-g^{20}}$$\n",
    "\n",
    "#### Restricción 3\n",
    "$$\\frac{f(g·x)-f(x)^8}{\\prod\\limits_{i=0}^{19} (x-g^i)}$$"
   ]
  },
  {
   "cell_type": "code",
   "execution_count": 172,
   "id": "9918710c",
   "metadata": {
    "tags": []
   },
   "outputs": [],
   "source": [
    "from utils.polynomial import X, prod\n",
    "\n",
    "#Primera Restricción\n",
    "numer0 = f - 2\n",
    "denom0 = X - 1\n",
    "\n",
    "p0 = numer0 / denom0\n",
    "\n",
    "#Segunda Restricción\n",
    "numer1 = f - 1610563584\n",
    "denom1 = X - g**20\n",
    "\n",
    "p1 = numer1 / denom1"
   ]
  },
  {
   "attachments": {},
   "cell_type": "markdown",
   "id": "d5e32496-7f7b-468e-8676-a9a7d31463bc",
   "metadata": {},
   "source": [
    "Para la tercera restricción, aprovechamos la siguiente propiedad:\n",
    "$$\\prod\\limits_{i=0}^{31} (x-g^i) = x^{32} - 1$$ \n",
    "Veamos que podemos reescribir el denominador de forma que se nos faciliten las cuentas"
   ]
  },
  {
   "cell_type": "code",
   "execution_count": 173,
   "id": "1e6cdc77-b7c1-43e7-abb9-5964f2d0342d",
   "metadata": {
    "tags": []
   },
   "outputs": [
    {
     "data": {
      "text/latex": [
       "$ -1 + x^{32} $"
      ],
      "text/plain": [
       "<utils.polynomial.Polynomial at 0x27e84f994d0>"
      ]
     },
     "execution_count": 173,
     "metadata": {},
     "output_type": "execute_result"
    }
   ],
   "source": [
    "lst = [X-g**i for i in range(32)]\n",
    "prod(lst)"
   ]
  },
  {
   "cell_type": "code",
   "execution_count": 174,
   "id": "43407395-6488-4100-b7f4-873695a9fa45",
   "metadata": {
    "tags": []
   },
   "outputs": [],
   "source": [
    "#Tercera Restricción\n",
    "from functools import reduce\n",
    "\n",
    "numer2 = f(g*X) - f**8\n",
    "#Cálculo de (X-g^20)*(X-g^21)*...*(X-g^31)\n",
    "r = reduce(lambda x, y: x * y, [(X-g**i) for i in range(20,32)])\n",
    "denom2 = ((X**32)-1)/r\n",
    "\n",
    "p2 = numer2/denom2"
   ]
  },
  {
   "attachments": {},
   "cell_type": "markdown",
   "id": "2e681fd2-bc24-4769-b3e2-289b127fcd05",
   "metadata": {},
   "source": [
    "### Combinación de polinomios\n",
    "\n",
    "A partir de una combinación lineal de $p0$,$p1$,$p2$\n",
    "$$CP(x) = \\alpha_0 \\cdot p_0(x) + \\alpha_1 \\cdot p_1(x) + \\alpha_2 \\cdot  p_2(x)$$\n",
    "\n",
    "Donde $\\alpha_0, \\alpha_1, \\alpha_2 $ son valores random que los obtenemos dede el verificador. Si nuestra traza cumple con las restricciones, entonces $p0$, $p1$ y $p2$ serán polinomios y la combinación lineal resultante será con alta probabilidad un polinomio también.\n",
    "\n",
    "Luego, evaluaremos nuestro CP en `eval_domain`."
   ]
  },
  {
   "cell_type": "code",
   "execution_count": 175,
   "id": "9cda3f19-3bf9-40c8-84f2-ceab1dc61b59",
   "metadata": {
    "tags": []
   },
   "outputs": [],
   "source": [
    "def get_CP(channel,polys):\n",
    "    cp = 0\n",
    "    for poly in polys:\n",
    "        alpha_i =  channel.receive_random_field_element()\n",
    "        cp += alpha_i*poly\n",
    "    return cp\n",
    "\n",
    "def CP_eval(cp, eval_domain):\n",
    "    return [cp(d) for d in eval_domain]\n",
    "\n",
    "cp = get_CP(channel,[p0,p1,p2])\n",
    "cp_eval = CP_eval(cp, eval_domain)\n",
    "\n",
    "#Armamos el Merkle tree con las evaluaciones\n",
    "cp_merkle = MerkleTree(cp_eval)\n",
    "\n",
    "#Enviamos la raíz del árbol\n",
    "channel.send(cp_merkle.root)"
   ]
  },
  {
   "attachments": {},
   "cell_type": "markdown",
   "id": "2f50bbb4-8c14-4112-8c09-29ac853517fa",
   "metadata": {},
   "source": [
    "### FRI\n",
    "\n",
    "Al aplicar FRI, haremos sucesivas iteraciones, donde en cada una reduciremos el dominio de evaluacion y la cantidad de coeficientes a la mitad, reduciendo rambién a la mitad el grado del polinomio. Con esto conseguimos nueva layer.\n",
    "1. **Nuevo dominio de evaluación**: Nos quedamos con la primer mitad y elevamos al cuadrado los elementos.\n",
    "2. **Nuevo polinomio**: Separamos en coeficientes de indice par e impar, multiplicamos a los de indice impar por $\\beta$ y luego obtenemos los coeficientes del nuevo polinomio realizando la suma: $par + \\beta · impar$\n",
    "3. **Nueva layer**: Evaluamos el nuevo dominio en el nuevo polinomio"
   ]
  },
  {
   "cell_type": "code",
   "execution_count": 176,
   "id": "eb371093-7bfb-47f2-89dc-e582afeb8484",
   "metadata": {
    "tags": []
   },
   "outputs": [],
   "source": [
    "from utils.polynomial import Polynomial\n",
    "\n",
    "#Obtener nuevo dominio\n",
    "def next_fri_domain(fri_domain):\n",
    "    return [x ** 2 for x in fri_domain[:len(fri_domain) // 2]]\n",
    "\n",
    "#Obtener nuevo polinomio\n",
    "def next_fri_polynomial(poly, beta):\n",
    "    odd_coefficients = poly.poly[1::2] # No need to fix this line.\n",
    "    even_coefficients = poly.poly[::2] # No need to fix this line either.\n",
    "    odd = Polynomial(odd_coefficients)\n",
    "    even = Polynomial(even_coefficients)\n",
    "    return even + beta * odd\n",
    "\n",
    "#Obtener nueva layer\n",
    "def next_fri_layer(poly, domain, beta):\n",
    "    next_poly = next_fri_polynomial(poly, beta)\n",
    "    next_domain = next_fri_domain(domain)\n",
    "    next_layer = [next_poly(x) for x in next_domain]\n",
    "    return next_poly, next_domain, next_layer\n",
    "\n",
    "#Algoritmo FRI + Commitment\n",
    "def FriCommit(cp, domain, cp_eval, cp_merkle, channel):\n",
    "    fri_polys = [cp]\n",
    "    fri_domains = [domain]\n",
    "    fri_layers = [cp_eval]\n",
    "    fri_merkles = [cp_merkle]\n",
    "    \n",
    "    while fri_polys[-1].degree() > 0:\n",
    "        beta = channel.receive_random_field_element()\n",
    "        next_poly, next_domain, next_layer = next_fri_layer(fri_polys[-1], fri_domains[-1], beta)\n",
    "        fri_polys.append(next_poly)\n",
    "        fri_domains.append(next_domain)\n",
    "        fri_layers.append(next_layer)\n",
    "        fri_merkles.append(MerkleTree(next_layer))\n",
    "        #Enviamos raiz del Merkle Tree actual\n",
    "        channel.send(fri_merkles[-1].root)\n",
    "\n",
    "    #Enviamos constante del último polinomio\n",
    "    channel.send(str(fri_polys[-1].poly[0]))\n",
    "    return fri_polys, fri_domains, fri_layers, fri_merkles\n",
    "\n",
    "fri_polys, fri_domains, fri_layers, fri_merkles = FriCommit(cp, eval_domain, cp_eval, cp_merkle, channel)"
   ]
  },
  {
   "cell_type": "code",
   "execution_count": 177,
   "id": "e552fddd",
   "metadata": {},
   "outputs": [],
   "source": [
    "def decommit_on_fri_layers(idx, channel):\n",
    "    for layer, merkle in zip(fri_layers[:-1], fri_merkles[:-1]):\n",
    "        length = len(layer)\n",
    "        idx = idx % length\n",
    "        sib_idx = (idx + length // 2) % length        \n",
    "        channel.send(str(layer[idx]))\n",
    "        channel.send(str(merkle.get_authentication_path(idx)))\n",
    "        channel.send(str(layer[sib_idx]))\n",
    "        channel.send(str(merkle.get_authentication_path(sib_idx)))       \n",
    "    channel.send(str(fri_layers[-1][0]))"
   ]
  },
  {
   "cell_type": "code",
   "execution_count": 178,
   "id": "eaefae45",
   "metadata": {},
   "outputs": [],
   "source": [
    "def decommit_on_query(idx, channel): \n",
    "    assert idx + 16 < len(f_eval), f'query index: {idx} is out of range. Length of layer: {len(f_eval)}.'\n",
    "    channel.send(str(f_eval[idx])) # f(x).\n",
    "    channel.send(str(f_merkle.get_authentication_path(idx))) # auth path for f(x).\n",
    "    channel.send(str(f_eval[idx + 8])) # f(gx).\n",
    "    channel.send(str(f_merkle.get_authentication_path(idx + 8))) # auth path for f(gx).\n",
    "    channel.send(str(f_eval[idx + 16])) # f(g^2x).\n",
    "    channel.send(str(f_merkle.get_authentication_path(idx + 16))) # auth path for f(g^2x).\n",
    "    decommit_on_fri_layers(idx, channel)  "
   ]
  },
  {
   "cell_type": "code",
   "execution_count": 179,
   "id": "a76230ca",
   "metadata": {},
   "outputs": [],
   "source": [
    "def decommit_fri(channel):\n",
    "    for query in range(3):\n",
    "        # Get a random index from the verifier and send the corresponding decommitment.\n",
    "        decommit_on_query(channel.receive_random_int(0, 255), channel)"
   ]
  },
  {
   "cell_type": "code",
   "execution_count": 180,
   "id": "09b94d0a",
   "metadata": {},
   "outputs": [
    {
     "name": "stdout",
     "output_type": "stream",
     "text": [
      "Generating the trace...\n",
      "0.0s\n",
      "Generating the composition polynomial and the FRI layers...\n",
      "0.0s\n",
      "Generating queries and decommitments...\n"
     ]
    },
    {
     "name": "stdout",
     "output_type": "stream",
     "text": [
      "0.6976819038391113s\n",
      "['send:8bc5d357865faf1f6cc4f21dcfde6012074ada5b899b0e21893ab4bbbfa3e037', 'receive_random_field_element:2934728597', 'receive_random_field_element:1063968342', 'receive_random_field_element:895926255', 'send:e693ce4ffdb259dddf2b77285801285987bba67432f25f37abeb4127372ee375', 'receive_random_field_element:2346264187', 'send:dbe7f32de939cad0c2d2aacc7caca22531f891030c774bc76db37b22ceafd43b', 'receive_random_field_element:807638022', 'send:ec38f1357a5f88b4f1c5be3aaa0107f49d56b39b0117210e2a9b378cb3cd86f2', 'receive_random_field_element:2070228105', 'send:f66cfddcadba2f89452f1ad56a1d14ed6ef0c2d59510a42cac3b4e62ccafa3d5', 'receive_random_field_element:658800157', 'send:d8a16a5cb56f65722a8701cbe52ad06bc7f0b9a94520f012e0899509b1293e29', 'receive_random_field_element:860933025', 'send:b11c0675e84dcec522a4c3cbeac7ec43a8c316d438badabb192bb7413962e65a', 'receive_random_field_element:996332559', 'send:642c23ff3c714137820eed88d545f614d7543c2a8fde88281ecb2585b6ea5bcf', 'receive_random_field_element:163365886', 'send:9181b4e7ce22fc741579624324c1305e7e3153d4dd12c04def8c20747bffbe76', 'receive_random_field_element:1247904573', 'send:fecc78c928e2b578eb522ae8d9c09d18513b9a7d6be8b6be3aad11a5b07c0c4c', 'send:491783445', 'receive_random_int:143', 'send:1277830972', \"send:['633662b2ff311702bb9263d76ed2373498c06d9b6c69abce3663b7eeba38a356', '41df99704195120edbb05baa1460664d8d7ad0c30fcdd7120da1fb59954797b2', '7bc9671968a209a6a57c9ba43095f613f1e2b03d12d6229f21ef71a4e6f7478d', 'c0ebcf03d0664fce759a8a28f121d09618b0e230fab8e20746696fe3db8f0dac', 'a5412de8b391868fd55f196f4078d88d3a6844806f25e2d1f024e16e9b66d4c7', '14a054380b3b3f73f29f9dd81362b73581fd70fd60d0f0054736dabb1c4e1398', 'b705da7d9718ae6e73b397df730b7aead53fd98c731175c917b223c8bb141f38', 'e6cf7476811ccb452aea737bc78ec7cf8c9bc12226125d9413783cbee8bc1611']\", 'send:344904447', \"send:['633662b2ff311702bb9263d76ed2373498c06d9b6c69abce3663b7eeba38a356', '41df99704195120edbb05baa1460664d8d7ad0c30fcdd7120da1fb59954797b2', '7bc9671968a209a6a57c9ba43095f613f1e2b03d12d6229f21ef71a4e6f7478d', 'f9471e676850fd19a00977ab6791dcca4f15e21dfdd5ec90b2a3033ad9af12a7', 'e3db7af7bd11c3ac4380978f51b2e5777e88258bdcb2d1aecce6d9ba0e48f2a0', '0598dc647e351c3abc0601d40c66fd76058b805ee596a157d831ab85bd404d3b', 'f10f958e1c6950f908b8473b18653f305435004badba33d7ac45faca8ea25fb3', '6585eb1ea4c0d23b5f3b95ebe9e7433a3ac3e1abef9b88e2c9525c59b0abfb8d']\", 'send:691698027', \"send:['633662b2ff311702bb9263d76ed2373498c06d9b6c69abce3663b7eeba38a356', '41df99704195120edbb05baa1460664d8d7ad0c30fcdd7120da1fb59954797b2', '7bc9671968a209a6a57c9ba43095f613f1e2b03d12d6229f21ef71a4e6f7478d', 'f9471e676850fd19a00977ab6791dcca4f15e21dfdd5ec90b2a3033ad9af12a7', '10bfcd4e3b3cd7f211063782a217ed60799e971633aaf9c7ccceeba8be1a5869', '6e368d89a760301aebe58d8b87b38b54fb2017651d2e709e15fd9da80446dcfc', 'cac71b3f586a7b1e429a0f8be77dcdb9b6095e5e3484777cebede840d2a6a40b', 'f0805443bb4b06bb32a69cd09e9338ab7d7071bdd06b2724b7ae59f492f06e5d']\", 'send:557890929', \"send:['8a593a58b8a0ec3ef55e97f0387d20beb51fc9df9fc30c742d3f87c3e2a3ee19', '4cf3caf64d1ad623336a53a37fbc6b21ffd5c78b563de3173590e694527e4bed', '81e87f7a5f53107bfc2a97df6534ebdfcbf9045a2d65ae0687be055139d3aea7', 'f657956d079784439776b93dd042dba98a70c5858b8305c2eabd22baf85aa73b', '1d4590771fa6ad1e2f619a28d4cf37aaa93ac23c01b29241c7fc4be4ed55ebd1', '6e7b763025859d52d4b1f13eefa81381467f47fc472bba24fa8cb871a16404e1', 'ebeff9706115f2c161567faa9baf5e843e556ed6a12712255819203c16f55318', '8b76b652ddfa334e0e719899514c52fb81bafbebda6752cce163206cd020fb90']\", 'send:-412617077', \"send:['53f0500486c847e29dd6de3ab3a175efc1937eb735d84294be8d89d62635826e', 'd1c30e5c7265c6d52016ca8da0ba1507cca8b9b9541c8b0d428316c36a59d2e3', 'a429f60a56f392edb94dcf26160ccc1b3140a8deb6b4b5f49aec857b76c07817', 'd71b77cc3d282f328fad5999356cb36c7a522d390337dc88d5365dc32e4621bb', 'e53a1d58e7d8837d6f3cff0ef0a9563f77b8196fa2bbc9a7eb1bc1687d60c4ca', '02cc99472f05b3114783ec81ec8658f1936b9f4d8e2f370b8475060532899c52', '8e70ee1c10c0ff170dcb2971b810d1b8f0f9da1a06124a9952cf9a4573802f89', '19551857b272e893aef035b198fbfbffa3a7c5888960fa34af6e469c6536b0cd']\", 'send:617674691', \"send:['966651416300a4186a18e24a2f164979d8e3a255d0dff591e36ef9954e2a51a0', 'd5fda2adfc79f6cf8572ac3c46d1f3c9b9fc9026211ef623cab3996ea407dcc7', '338c17a90e0629f6ebd026b25d4509a24732ca847b5c4e3ee407361ae87fc585', 'aca1df29532482b9e5c87c09a09c265aad81b402a70437ae44c7f967186c4ea1', 'a5352e2a3875cad351af5b8bda9fd97c8f44cb11a085df7f71ba537ab53e6d6d', '7d73061121d5c0fb3263adba9e2f1cc130348bf307992e9a8c92503aaa0be806', '9ac76c056d919d02adf47e97fac684546a5eb63d86cb753f6754499a306c1726']\", 'send:-1540991495', \"send:['90cef0254177a4affcde16a5af7a8dc6f64a2dc38abc608b3a70ef273a05a2e4', '19423bb0d9300a251543092a85ed41e55f9de4a2ecbe82e75b25bedd9adc6178', '03cb4ea7365a597a9caf3f65b7c3c702e577c792dee1e22fa286300d7fb34b4d', '9bd047a976e5f3501a0e86a9df6699eee74594369c6c48b4f0796d566ec0d26e', '24f6dece1e136f66d3c5e185f53abe55b06967f40318b14cb5fe50ac6e32c612', '3d2140350a30739834537774b6a6320cf1502d2e2c9f23cd2bfc0ebc6ee900fb', 'a0e5f09424420771e6b6d5b64b7546f00c14e22733b933751f256fa157eb1ea4']\", 'send:-1358692863', \"send:['c38674f804ec53243f35c71e23138f98ade4fca2a290bf5e53e1600e2971bf36', '6293b8e037026dbcd4bc29e354de097d7849e367d2532933023f528ffaebc171', '4dba9d671242f70b62676abb1e70fbd70c7ae8968ad7e5944bb55c9e35e40765', '45f0050282bbcaf2c1bf83777cc60e9f70ab1d868c66882bf148170944f3901d', '0c22c294705bd3475bdd83522278a51edcd0e90e1915dcbef6743b1d2f716ec6', 'dbbbac7c88c70487e6467a828e11b812be5376d9f48a73b98a5689b66d4673a1']\", 'send:-958463084', \"send:['4529235470d6a10bf44802bd2d9d355984a8af45a6edc9ba1871f7578a3595c5', 'e1594c15dd2bf87478b4526ee825fcf968a9e12a3b89e5c210a820ac3986f2ee', 'f17414993a0aac55a81b7e9e89bd6f745630c37aa278a16073c8bd7e4cbc3701', 'b6851569d81c147761cfcb5e740ca8675b38380ed0795ebfd69b045454a2aa4e', '4e09d29aec381608ef58f3c2f3e636e36a33935ef256e4a376c0759ebb95a1ef', '0f2b74d323b61ff67564b4b94dd9ece2c6fe593d8a1e247023d6bc80a20c8a20']\", 'send:547605348', \"send:['afdda5324e6d6184e86e6137ef10ffd3cf7cdcba67c8bb2bd4c541905f5a75b2', '919ec5be767b27ca465b0f249277334a1461926d6023c048d10373039b07c36a', 'f0e4207f54bceaa32789d990ff896f3e84174594f86983108a79ac5025c5e0b0', 'b7a0adec8fe763d636bf44a27d5942d81ad11cfe3c58d8165f2dfca3ac8a114f', '4c1243b5c8fa2bff599a059628383b7241c38e4657f3c1ffb682680fd2d231f1']\", 'send:882536292', \"send:['3206c543980d2863bc67f9fe3dd759a05c64fda66cc26d3a9b2a3aa2f1a87eb1', '8ad660998fcd9246c96d1c1a8f3fbb7aabe0980814840963bf9ecf203c2478b5', '3d57f8ed4f5e67e077a74a62dd9c312775d362e07d29c84ddddc59858d346de3', 'af740f9dc57879c9ae9313e6d16b26dff1ec577b859a219e96d7598a26a37718', '1cfb53f360a63150702205336adfe571d8a212a89381571f685395ea4dadd265']\", 'send:-721520642', \"send:['6c0ea9866410804015e9212350b619bd3848ed3754b6c9dd5b3240fd67159652', 'e73eaa9e03d605d921a67af9aaddf0ee805b7f9c118573a4592fe3bd35d9a28a', 'c7fb194f7677624432050d8fe4542df065e0665d8a9ea07a1cd7686008a071fc', 'c0558146397357a4f05a5ea6b2aa01ddab24fe44aaf9bbe1d1251d5531ecef5b']\", 'send:-993563049', \"send:['e6d106e7e182d09e8e51e86d0cfdeba41afa48aee173d2b43d7453f5bf8f5aea', '33530f93d28994c5f516248705650ee8147fbe5cb890b7fc085de486509bcb2b', '998ca6be88445560cabb88c52c41cccd426a79820b94bce7e8c1a86befe9f46d', 'aab391ad9e9f6c01209abae428c76842f5e7836bd2f5984b05711f449926348c']\", 'send:-481378844', \"send:['aa6e0be5089f6e26839809ad3e13f8fb68ce5de5014f2c4df64304b1b47e1d24', '3c1e08143a890c0a92c4c764a0c7b7c6bba257e62fac6e7a798aaeca82fd35e5', 'e7b707e59b2d964923e0a94065a34656d179ed65a88242f440f8fd76abc3a216']\", 'send:-413596855', \"send:['b46f8e091c2d9ff09a31e8f9a0e76045b2fff0fb3e87ec6947a8cc7b701dcde0', 'f4a4dfe645f817138d15e97f4675283f5a9b6dbc8b5621b8ea2cc867a7d40a49', 'e7ac2f3f50af6d4f7a2f0c911ce383161844d4c88c72646f0eb315483c3e400f']\", 'send:-568252560', \"send:['8f088ccab8a1b16c89d4d9715df9b80f1c52753c3cbcfff3d011f3fd0bfc8eb5', '05bfd1715af079e9603179b3ae6d59298db36eca8a14e863467ea8ad42c16d8e']\", 'send:-1005805850', \"send:['1014089c5c568868906180c37b96ef7a13ffb0cf6cb650a47a46c369d6675ba4', '7100fde60ed0630e7e3afe5124fd859117fe68218139e6dc0efd7bb450ff69ab']\", 'send:1020379625', \"send:['d7315f9d8ad936de1432516fa1ffe3134fd0a6dcea28d548a87f056678234991']\", 'send:453998054', \"send:['51f80f5fd674c8a7b88dfc8a7cdf069ec42e1a2eca3e33236305cce65e00fbad']\", 'send:491783445', 'receive_random_int:32', 'send:-881745865', \"send:['5467b28df1bf4b89d3de2007aafc9e5766b4fbc88e4add82a7abbf109cce1682', '0d6ac8742bdca7a8c54c8b67e8656187e171fc1893bfe74569035f5e35a27c76', 'e55ea99fac2ab8a8b3468e378c160709da9ca772b7f4e8706e8e66720aaa7e25', '727a9d1c72c062e0238593794c462c27f4dc0cc6bcb6d301ec6f690f486414bf', 'c0bd6d28c961ae5ab05df4f014d371ca8b35985dede981d40e3ad4e378662b93', 'f58d412237b4c81a3a3ea6814489a0c7c27a6d103c106736d881e1b70537cf15', '7b494e14d23af6d93fc21f5968fbe37ffd2182f64f094473668d11eb00826382', 'ac78d7c15357b12e73b3d3152a573d260847bfe196aabb1803c46392c5caab96']\", 'send:964629802', \"send:['5467b28df1bf4b89d3de2007aafc9e5766b4fbc88e4add82a7abbf109cce1682', '0d6ac8742bdca7a8c54c8b67e8656187e171fc1893bfe74569035f5e35a27c76', 'e55ea99fac2ab8a8b3468e378c160709da9ca772b7f4e8706e8e66720aaa7e25', '727a9d1c72c062e0238593794c462c27f4dc0cc6bcb6d301ec6f690f486414bf', 'b9ad6349239b01f042f3671f0ecd6de7102d63d963e4d56b8d0387d6ef442d91', '5f13c64cac06b6682e5af8987d9a5f5370576caf4584e9cac31cfa2c6028d3ee', 'dad4e3aabfad23b5fc5096e1d182ebc4c116edf68daa6af5483cb3f473b9e2d5', 'd66577fff1497746a7b7f06e3fdfa3f571da854f307b6050499687771bb30adb']\", 'send:1172539050', \"send:['5467b28df1bf4b89d3de2007aafc9e5766b4fbc88e4add82a7abbf109cce1682', '0d6ac8742bdca7a8c54c8b67e8656187e171fc1893bfe74569035f5e35a27c76', 'e55ea99fac2ab8a8b3468e378c160709da9ca772b7f4e8706e8e66720aaa7e25', '10b3a18874629d905b51704e2bc0cc14f96f4223b42df078c1037f9cc030f561', '5b5764848abb8871a11f5f0396845b75fc5e4c85bfe8c60a7db87e44cd178678', '54e010c09dcdea1b16b6f9de966ba0fb1f4c6b0d9ee4cb5c83e1881d476d1286', '74dc85033716e7e7c143036e9184bac278b161875b1c13094a4673ad0b920e78', 'f536ed3c4fe38fa92178be58d027e68e8d04e3b50e6984747f4d3120fb1549ee']\", 'send:866045827', \"send:['53f0500486c847e29dd6de3ab3a175efc1937eb735d84294be8d89d62635826e', 'd1c30e5c7265c6d52016ca8da0ba1507cca8b9b9541c8b0d428316c36a59d2e3', '276b77c64d4a114a4475caa778d24134f8ce850a0646a5d269950cb3acefefe2', '37b1cbb7c4c8ee1bf09597c6fce7407e2f9f5192b9c1dc119765a4762fdac84e', '28f1438523c4215d29627c28c271792f0097d70cacca1d1ef6dc9a0ade4769b8', '836860a50111e2ea84fb954e50a1694fc563ece6fa168b6b98a84c4f7a8dd6d0', '89111f36af2d972de7b20ae2768f5052a6665b8744595206d0b6a8bd8deeb7f0', '250b4ae4efadafec1302724a06720b6db762b8f9adee74f7948a8ebb723ef51e']\", 'send:895015272', \"send:['8a593a58b8a0ec3ef55e97f0387d20beb51fc9df9fc30c742d3f87c3e2a3ee19', '4cf3caf64d1ad623336a53a37fbc6b21ffd5c78b563de3173590e694527e4bed', '507a13c0e5309fa9863cb1c12f73805a1d76311aabc552cdccb8a55844a093d2', 'b00d12ec3b50a035fa89be79d5f302ab5d45e481803e9e150654b64bc29097a8', 'eb4b02d968593891b0456b604e857f14a4718dcfe87efad82375a3a4d8c10fc6', '21e193e4bcac5ab83dac52f099102ddb9f5171038b55ab0118374d0a38da07b4', '8cd3d56ee86c95909cc3e1147ab2d0a0fb4a432a89244538661261d2c9c29fc2', '80f408749434d6caffbd592e78a69373f9310f3dd4754f6d555978ec75f816c4']\", 'send:-573585890', \"send:['966651416300a4186a18e24a2f164979d8e3a255d0dff591e36ef9954e2a51a0', 'a0d312963a346e6f87839adb5cdadd5fe8a314bdb371bbdb229ebd7d161f966d', '30508b202a86b7af7540da76aebd611333c6d0a31515f0f4d44bdb717f9f48fc', '75ee668064d806ee9ee5b378ed5cb013ff1d6b282b33c4b459001da7965f7412', '81b2c84124c9e34e52400e254258da25388621d11aeab7c5e2aefe476ad853f9', '7927e8efb3fb1ca398f4b6c7609e6eee6414483baaa60e79e6f31ad2e218edea', 'a238bcc2625f086875ba435adb66192c83a926f962f2b3a9559a47a25a6b1001']\", 'send:-801546827', \"send:['90cef0254177a4affcde16a5af7a8dc6f64a2dc38abc608b3a70ef273a05a2e4', 'fd5cc7c61a7424970997b5111a0b1d0d529de244955246897aa2abdd4fd7cb8b', '56ffa585970593236f357391f68e00da73194164a2d34bee75fdc0700dacf4de', '983110be8d5c8da909702d2dd509d966a15aa598860e1ee110c53bc6fdb00847', 'a5fca11d95ef7fc94c8f0a3cce344b0027ae7f44a107652d8507abfd8fc0373d', 'e725908e563fcb2bb5ff3827d6b681c9ee2914cb8d2df1d719f1457b359c2e70', '8a910fc81e2c0496dc2c1607616595ce09544dce7095d0348d0535bd8111c77d']\", 'send:493118443', \"send:['4529235470d6a10bf44802bd2d9d355984a8af45a6edc9ba1871f7578a3595c5', 'e1594c15dd2bf87478b4526ee825fcf968a9e12a3b89e5c210a820ac3986f2ee', '627ffd4b600dff30d0b161bad12d429ab5e80f55671ca05682b45604680b5a4b', '35d7fbfe06188e1a706174e6e286d11d02a8ddfdf93135d529af301cd446dafe', 'f44e78a4cefc5a0f327c993bd5f32f03819cbe64e2677bcea83b40ae277de306', 'a6d91f655ebee5fad1d88bd518c6c645e79eb88bca779a4276d55317ded56507']\", 'send:-876377681', \"send:['c38674f804ec53243f35c71e23138f98ade4fca2a290bf5e53e1600e2971bf36', '6293b8e037026dbcd4bc29e354de097d7849e367d2532933023f528ffaebc171', '9a865454a3c0af19ea84bef8189f36da69703ffc98cfee6ffae8ee151d746687', '6320b30386f0ece8e47c5766e4e7f253aa15a336f34cb322e2b00b3e1cbcd23d', '20e8b1b87b8e8f2e5d3f09b3390f970dcc44adf78ca571f634463d5e6f8ee778', 'ce3f586a4cf285b371a2b1880809c101beb4d8a879f92c4f4bb0224348a08ffc']\", 'send:-1275864598', \"send:['afdda5324e6d6184e86e6137ef10ffd3cf7cdcba67c8bb2bd4c541905f5a75b2', 'a3c7357e05f9906aa532575d2a4467a99d1c408bcb0fbe1e03bdce3601ca8b03', 'bb540c041690a01ef7c7c890930bb291978f726b79f0fa84cddc1d44cf8c6ae3', '1895a9148f3704418dcef8616b43f2d298c10fd572a5f3441dd1a27fb217d2b1', '3bbae670d23a5623c39bda82c16021c2ddfc646b4b0802b0eed8b7096e022870']\", 'send:-1039798485', \"send:['3206c543980d2863bc67f9fe3dd759a05c64fda66cc26d3a9b2a3aa2f1a87eb1', '7e8aed36527a0c3b6dfbf522dbbc1ced702a52d64af6e0030ec10af9a4b8ef9a', 'fe91a652bd1cc328b112f5c3186490e4c1b0bd2b00fa4bb416553066a2a3d816', '63b38b9793d2dbdc5eaf4934ec4bb539cd090909a30ab5f0010cc4a1c0bd92c6', '093ad7c6993107e79b8fd0bcfd8b8c9cc264af51f8acb2844738ad2727e9ddf0']\", 'send:58123696', \"send:['e6d106e7e182d09e8e51e86d0cfdeba41afa48aee173d2b43d7453f5bf8f5aea', '60078f78a1fcabcd387326f9fd52f8c06b223c9726ef2227006af4756cf0b509', '3f6c20705ca740d7517ef183803fe8c8bcec5d6cf0f409d071ad0dd107eb219e', '11835361a713143c4cdf6ca0adb3a530084472b89841711b0adb43a046f16ef0']\", 'send:-16021030', \"send:['6c0ea9866410804015e9212350b619bd3848ed3754b6c9dd5b3240fd67159652', '8b56a82b9de15b82243c4fb5021e6de71b2a6d0664444207708f474fe3bcc087', 'f3a60ac9cda39a180d2c1612ec3b54d78b6fab382e58df2040237b8440b33b39', '7c738e9b7ef2d1098429fc550d8abc42ee3d0f58b2b9359df4a0f92dfeeb1462']\", 'send:-249536268', \"send:['b46f8e091c2d9ff09a31e8f9a0e76045b2fff0fb3e87ec6947a8cc7b701dcde0', '0df13fa4312a56778c1872e4c5f032e441ac6b2579ba5b05bfb255583f21b1ca', '262fb02acb69a3a0712644845f56053ffd842d4d36a2cce944f2343379650295']\", 'send:-509840685', \"send:['aa6e0be5089f6e26839809ad3e13f8fb68ce5de5014f2c4df64304b1b47e1d24', '311a416fbb5d0e95e4a91a054818b1fafde5fcaeb3d093a2203b9d2ec10b80b3', '53729c12b95bc0a8a3b1182406b167d1628c8e032592a26a07a2561970678bc8']\", 'send:-249471116', \"send:['1014089c5c568868906180c37b96ef7a13ffb0cf6cb650a47a46c369d6675ba4', '9f58f11b1e56331cf1b89e4fbd6ebde1f07f6195fab6977cea86be13d0b5da81']\", 'send:763875037', \"send:['8f088ccab8a1b16c89d4d9715df9b80f1c52753c3cbcfff3d011f3fd0bfc8eb5', '00be444e6c38f4b5e898d89810a2c3313ab1b4102b241833e7290182a50e6065']\", 'send:453998054', \"send:['51f80f5fd674c8a7b88dfc8a7cdf069ec42e1a2eca3e33236305cce65e00fbad']\", 'send:1020379625', \"send:['d7315f9d8ad936de1432516fa1ffe3134fd0a6dcea28d548a87f056678234991']\", 'send:491783445', 'receive_random_int:35', 'send:1480859132', \"send:['5467b28df1bf4b89d3de2007aafc9e5766b4fbc88e4add82a7abbf109cce1682', '0d6ac8742bdca7a8c54c8b67e8656187e171fc1893bfe74569035f5e35a27c76', 'e55ea99fac2ab8a8b3468e378c160709da9ca772b7f4e8706e8e66720aaa7e25', '727a9d1c72c062e0238593794c462c27f4dc0cc6bcb6d301ec6f690f486414bf', 'c0bd6d28c961ae5ab05df4f014d371ca8b35985dede981d40e3ad4e378662b93', 'f58d412237b4c81a3a3ea6814489a0c7c27a6d103c106736d881e1b70537cf15', 'fdf356dd6ee980e0821f249deb472fe19aa0b1a6607d025308ff186071ba459d', 'd4886682610a9389be1fd97742e0f56c47da3683301c17a9912e7b1de8e2569d']\", 'send:1190849110', \"send:['5467b28df1bf4b89d3de2007aafc9e5766b4fbc88e4add82a7abbf109cce1682', '0d6ac8742bdca7a8c54c8b67e8656187e171fc1893bfe74569035f5e35a27c76', 'e55ea99fac2ab8a8b3468e378c160709da9ca772b7f4e8706e8e66720aaa7e25', '727a9d1c72c062e0238593794c462c27f4dc0cc6bcb6d301ec6f690f486414bf', 'b9ad6349239b01f042f3671f0ecd6de7102d63d963e4d56b8d0387d6ef442d91', '5f13c64cac06b6682e5af8987d9a5f5370576caf4584e9cac31cfa2c6028d3ee', 'c8c52bd26b643a5e0031aade844e24ef80102e8823c44e54e578ee06c756467a', '305ab29c34a6f694ba69d057114bb39d5971918a016e47560fdd22581ad52ad7']\", 'send:-1292373486', \"send:['5467b28df1bf4b89d3de2007aafc9e5766b4fbc88e4add82a7abbf109cce1682', '0d6ac8742bdca7a8c54c8b67e8656187e171fc1893bfe74569035f5e35a27c76', 'e55ea99fac2ab8a8b3468e378c160709da9ca772b7f4e8706e8e66720aaa7e25', '10b3a18874629d905b51704e2bc0cc14f96f4223b42df078c1037f9cc030f561', '5b5764848abb8871a11f5f0396845b75fc5e4c85bfe8c60a7db87e44cd178678', '54e010c09dcdea1b16b6f9de966ba0fb1f4c6b0d9ee4cb5c83e1881d476d1286', '7185781f4c08ae2415c63947cac794775154c93b59d58995cf127cadf866a286', '224ad4ba7568c040ae76841d8fc4ca0be44c97542aeadc4f64913fb484a8a848']\", 'send:-1246424660', \"send:['53f0500486c847e29dd6de3ab3a175efc1937eb735d84294be8d89d62635826e', 'd1c30e5c7265c6d52016ca8da0ba1507cca8b9b9541c8b0d428316c36a59d2e3', '276b77c64d4a114a4475caa778d24134f8ce850a0646a5d269950cb3acefefe2', '37b1cbb7c4c8ee1bf09597c6fce7407e2f9f5192b9c1dc119765a4762fdac84e', '28f1438523c4215d29627c28c271792f0097d70cacca1d1ef6dc9a0ade4769b8', '836860a50111e2ea84fb954e50a1694fc563ece6fa168b6b98a84c4f7a8dd6d0', 'c059d3539b9a5a95911ffc9b7e6cf5bcb550b961535936bd82fad4ec4f8b631b', '2b32c1bc4ce11449854460b491c384a91e99fee776ec95a8db48e766abf6bde3']\", 'send:-1024288093', \"send:['8a593a58b8a0ec3ef55e97f0387d20beb51fc9df9fc30c742d3f87c3e2a3ee19', '4cf3caf64d1ad623336a53a37fbc6b21ffd5c78b563de3173590e694527e4bed', '507a13c0e5309fa9863cb1c12f73805a1d76311aabc552cdccb8a55844a093d2', 'b00d12ec3b50a035fa89be79d5f302ab5d45e481803e9e150654b64bc29097a8', 'eb4b02d968593891b0456b604e857f14a4718dcfe87efad82375a3a4d8c10fc6', '21e193e4bcac5ab83dac52f099102ddb9f5171038b55ab0118374d0a38da07b4', 'bc3777580757ea947dc0b6fa41aa69ef7c1b95b15d70ea6b351cfe24fb8b94b7', 'b1b8d5c27bd56c45111d08983c59f64cf92337173bcfc0bbd126598a2899c28d']\", 'send:386009874', \"send:['966651416300a4186a18e24a2f164979d8e3a255d0dff591e36ef9954e2a51a0', 'a0d312963a346e6f87839adb5cdadd5fe8a314bdb371bbdb229ebd7d161f966d', '30508b202a86b7af7540da76aebd611333c6d0a31515f0f4d44bdb717f9f48fc', '75ee668064d806ee9ee5b378ed5cb013ff1d6b282b33c4b459001da7965f7412', '81b2c84124c9e34e52400e254258da25388621d11aeab7c5e2aefe476ad853f9', '5ffe25d9acd484e7ba83b1e57c1842c798143e4c5ae5b47201a9ad5467a783c3', '059961d8468e45f242a17f014b3e0a76a59345fedaea75cdb788186ad0982379']\", 'send:-114504794', \"send:['90cef0254177a4affcde16a5af7a8dc6f64a2dc38abc608b3a70ef273a05a2e4', 'fd5cc7c61a7424970997b5111a0b1d0d529de244955246897aa2abdd4fd7cb8b', '56ffa585970593236f357391f68e00da73194164a2d34bee75fdc0700dacf4de', '983110be8d5c8da909702d2dd509d966a15aa598860e1ee110c53bc6fdb00847', 'a5fca11d95ef7fc94c8f0a3cce344b0027ae7f44a107652d8507abfd8fc0373d', '0551bae6d611fe9b98d85da53e552eaed4f230bc78d889bdae14e133cb5c65d2', '4e47d58a7bdff5309a2a367958264f328a9604927de70ae1a68d8a3ee73833ac']\", 'send:-72049972', \"send:['4529235470d6a10bf44802bd2d9d355984a8af45a6edc9ba1871f7578a3595c5', 'e1594c15dd2bf87478b4526ee825fcf968a9e12a3b89e5c210a820ac3986f2ee', '627ffd4b600dff30d0b161bad12d429ab5e80f55671ca05682b45604680b5a4b', '35d7fbfe06188e1a706174e6e286d11d02a8ddfdf93135d529af301cd446dafe', '405e1d0c159f46261d225dcdde1bb53ca2fde5d0aa8e64f07a481385b9a4c935', '64c7e6ff6172d292be53b88b95e733394207b98685c278670b3ef0e81638b285']\", 'send:1426210351', \"send:['c38674f804ec53243f35c71e23138f98ade4fca2a290bf5e53e1600e2971bf36', '6293b8e037026dbcd4bc29e354de097d7849e367d2532933023f528ffaebc171', '9a865454a3c0af19ea84bef8189f36da69703ffc98cfee6ffae8ee151d746687', '6320b30386f0ece8e47c5766e4e7f253aa15a336f34cb322e2b00b3e1cbcd23d', '41e6f599d0d5880a828788f2809a5bc24e6edcbb2ad3c9f4809269bdf95fc05f', 'a1d394d7636c8ddfd2feb00c7078b393cd29cb736dad00385013575899d1b6c8']\", 'send:-1422604032', \"send:['afdda5324e6d6184e86e6137ef10ffd3cf7cdcba67c8bb2bd4c541905f5a75b2', 'a3c7357e05f9906aa532575d2a4467a99d1c408bcb0fbe1e03bdce3601ca8b03', 'bb540c041690a01ef7c7c890930bb291978f726b79f0fa84cddc1d44cf8c6ae3', '02cb21702278c20490095054eb9b2294a01f6cde3ce4a97596cafbbd83a602ca', '034ff2e955024714be7b85b6b1f08ded4cb0ab6c80332c84acd378e24c11fdc7']\", 'send:686514876', \"send:['3206c543980d2863bc67f9fe3dd759a05c64fda66cc26d3a9b2a3aa2f1a87eb1', '7e8aed36527a0c3b6dfbf522dbbc1ced702a52d64af6e0030ec10af9a4b8ef9a', 'fe91a652bd1cc328b112f5c3186490e4c1b0bd2b00fa4bb416553066a2a3d816', 'b646939d85644cf13794f273420644dae7f7fbd30e99c25bd295398ce22d0414', 'd5767efdda10b3d4ee517a9b3055b376b9f34e9c0aa0cd2411c8f7742502f156']\", 'send:-602304362', \"send:['e6d106e7e182d09e8e51e86d0cfdeba41afa48aee173d2b43d7453f5bf8f5aea', '60078f78a1fcabcd387326f9fd52f8c06b223c9726ef2227006af4756cf0b509', '9700f097cd1adc2a74d3ec2b99659681ddef43d5c78b3a8982fe429522f641cd', 'adc1d36df5883568ad2c470f09a66b2cc77e3320f0478b6797ac25d73062ab5a']\", 'send:-178763312', \"send:['6c0ea9866410804015e9212350b619bd3848ed3754b6c9dd5b3240fd67159652', '8b56a82b9de15b82243c4fb5021e6de71b2a6d0664444207708f474fe3bcc087', '69f3edf62a523a2f71f726a11d1d6d431780a6c3af54a78214d9780f894a173a', '2baf9cdba128978a02a6e4669ce53711ffd836cb8ceb5d7db150960c96d76f43']\", 'send:-413596855', \"send:['b46f8e091c2d9ff09a31e8f9a0e76045b2fff0fb3e87ec6947a8cc7b701dcde0', 'f4a4dfe645f817138d15e97f4675283f5a9b6dbc8b5621b8ea2cc867a7d40a49', 'e7ac2f3f50af6d4f7a2f0c911ce383161844d4c88c72646f0eb315483c3e400f']\", 'send:-481378844', \"send:['aa6e0be5089f6e26839809ad3e13f8fb68ce5de5014f2c4df64304b1b47e1d24', '3c1e08143a890c0a92c4c764a0c7b7c6bba257e62fac6e7a798aaeca82fd35e5', 'e7b707e59b2d964923e0a94065a34656d179ed65a88242f440f8fd76abc3a216']\", 'send:-568252560', \"send:['8f088ccab8a1b16c89d4d9715df9b80f1c52753c3cbcfff3d011f3fd0bfc8eb5', '05bfd1715af079e9603179b3ae6d59298db36eca8a14e863467ea8ad42c16d8e']\", 'send:-1005805850', \"send:['1014089c5c568868906180c37b96ef7a13ffb0cf6cb650a47a46c369d6675ba4', '7100fde60ed0630e7e3afe5124fd859117fe68218139e6dc0efd7bb450ff69ab']\", 'send:1020379625', \"send:['d7315f9d8ad936de1432516fa1ffe3134fd0a6dcea28d548a87f056678234991']\", 'send:453998054', \"send:['51f80f5fd674c8a7b88dfc8a7cdf069ec42e1a2eca3e33236305cce65e00fbad']\", 'send:491783445']\n",
      "Overall time: 0.6986827850341797s\n",
      "Uncompressed proof length in characters: 22515\n"
     ]
    }
   ],
   "source": [
    "import time\n",
    "\n",
    "start = time.time()\n",
    "start_all = start\n",
    "print(\"Generating the trace...\")\n",
    "print(f'{time.time() - start}s')\n",
    "start = time.time()\n",
    "print(\"Generating the composition polynomial and the FRI layers...\")\n",
    "print(f'{time.time() - start}s')\n",
    "start = time.time()\n",
    "print(\"Generating queries and decommitments...\")\n",
    "decommit_fri(channel)\n",
    "print(f'{time.time() - start}s')\n",
    "start = time.time()\n",
    "print(channel.proof)\n",
    "print(f'Overall time: {time.time() - start_all}s')\n",
    "print(f'Uncompressed proof length in characters: {len(str(channel.proof))}')"
   ]
  },
  {
   "attachments": {},
   "cell_type": "markdown",
   "id": "31c50013-f5dc-48c9-a0a1-83f8e1061a54",
   "metadata": {},
   "source": [
    "## Estrategia 2: $a_0 = 2$ y $a_{n+1}=a_n^2$"
   ]
  },
  {
   "attachments": {},
   "cell_type": "markdown",
   "id": "040f45e3",
   "metadata": {},
   "source": [
    "### Polinomio de la traza\n",
    "Primero vamos a generar la traza. La misma es una lista de 61 elementos, siendo el primero de ellos $a_0 = 2$ y siendo $a_n=a_{n-1}^2$ para $1 \\le n \\le 60$. De esta manera, el último elemento será $a_{60}=a_{59}^2=2^{2^{60}}=2^{8^{20}}$."
   ]
  },
  {
   "cell_type": "code",
   "execution_count": 181,
   "id": "5e1dc890",
   "metadata": {},
   "outputs": [
    {
     "name": "stdout",
     "output_type": "stream",
     "text": [
      "Traza creada correctamente\n"
     ]
    }
   ],
   "source": [
    "a0 = FieldElement(2)\n",
    "a = [a0]\n",
    "\n",
    "for i in range(60):\n",
    "    a.append(a[-1]**2)\n",
    "\n",
    "#Algunos chequeos de la traza\n",
    "assert len(a) == 61\n",
    "assert a[0] == FieldElement(2)\n",
    "assert a[-1] == FieldElement(2)**(8**20)\n",
    "print(\"Traza creada correctamente\")"
   ]
  },
  {
   "attachments": {},
   "cell_type": "markdown",
   "id": "da475e49",
   "metadata": {},
   "source": [
    "Similar a la estrategia anterior, necesitamos hallar un generador $g$ que nos permita generar un grupo de tamaño 61. \n",
    "\n",
    "Debemos hallar $k$ tal que:\n",
    "\n",
    "$\n",
    "61 = \\frac {|\\mathbb{F}^\\times|}{k} \\\\\n",
    "61 = \\frac{3221225472}{k} \\\\\n",
    "k = \\frac{3221225472}{61} = 52806974.951\n",
    "$\n",
    "\n",
    "Nuevamente, $k$ nos queda como un número decimal. Entonces, debemos buscar un número potencia de 2 más próximo a 61 (y más grande) tal que divida a 3221225472, es decir, 64, por eso lo fijamos como el tamaño de nuestro grupo y lo usamos para calcular $k$\n",
    "\n",
    "$\n",
    "64 = \\frac{3221225472}{k} \\\\\n",
    "k = \\frac{3221225472}{64} = 50331648\n",
    "$"
   ]
  },
  {
   "cell_type": "code",
   "execution_count": 182,
   "id": "634ce0e4",
   "metadata": {},
   "outputs": [],
   "source": [
    "generator = FieldElement.generator()\n",
    "g,G = get_group(generator,len(a))"
   ]
  },
  {
   "cell_type": "code",
   "execution_count": 183,
   "id": "ae46d0c7",
   "metadata": {},
   "outputs": [
    {
     "name": "stdout",
     "output_type": "stream",
     "text": [
      "Grupo generado correctamente\n"
     ]
    }
   ],
   "source": [
    "#Algunos chequeos del grupo generado\n",
    "assert g.is_order(64), print(\"El grupo no tiene orden 64\")\n",
    "assert G[-1]*g == FieldElement(1), print(\"No es ciclico\")\n",
    "print(\"Grupo generado correctamente\")"
   ]
  },
  {
   "attachments": {},
   "cell_type": "markdown",
   "id": "d57eae0f",
   "metadata": {},
   "source": [
    "Obtenemos el polinomio de la traza interpolando los 61 puntos $(x_i,y_i)$ tales que:\n",
    "- $x_i$: es el elemento $i$ del grupo $G$ generado.\n",
    "- $y_i$: es el elemento $i$ de la traza"
   ]
  },
  {
   "cell_type": "code",
   "execution_count": 184,
   "id": "37c5a1a8",
   "metadata": {},
   "outputs": [],
   "source": [
    "from utils.polynomial import interpolate_poly\n",
    "f = interpolate_poly(G[:61],a)"
   ]
  },
  {
   "attachments": {},
   "cell_type": "markdown",
   "id": "6e35947f",
   "metadata": {},
   "source": [
    "### Expansión\n",
    "El proceso de expansión es exactamente igual que en la estrategia anterior, solo cambia en que G tiene orden 64. Entonces creamos un grupo nuevo $H$ el cual será 8 veces más grande que $G$ y posteriormente, obtenemos el dominio de evaluación tal que\n",
    "\n",
    "$$eval\\_domain = \\{w\\cdot h^i | 0 \\leq i <512  \\}$$"
   ]
  },
  {
   "cell_type": "code",
   "execution_count": 185,
   "id": "be614539",
   "metadata": {},
   "outputs": [],
   "source": [
    "#Obtenemos dominio de evaluacion\n",
    "eval_domain = expand_domain(len(G)*8)\n",
    "\n",
    "#Evaluamos en el polinomio de la traza\n",
    "f_eval = [f(x) for x in eval_domain]\n",
    "\n",
    "#Armamos el Merkle tree con las evaluaciones\n",
    "f_merkle = MerkleTree(f_eval)\n",
    "\n",
    "#Instanciamos un canal y enviamos la raíz del árbol\n",
    "channel = Channel()\n",
    "channel.send(f_merkle.root)"
   ]
  },
  {
   "attachments": {},
   "cell_type": "markdown",
   "id": "83088f66",
   "metadata": {},
   "source": [
    "### Restricciones"
   ]
  },
  {
   "attachments": {},
   "cell_type": "markdown",
   "id": "8b34f10e",
   "metadata": {},
   "source": [
    "Las primeras dos restricciones son iguales que en la primera estrategia, y la tercera tiene una leve variación:\n",
    "1. El primer elemento de la traza debe ser igual a $2$. Esto es $a[0] = 2$.\n",
    "2. El último elemento de la traza debe ser igual a $2^{8^{20}}$. Esto es $a[-1] = 2^{8^{20}} mod(p) = 1610563584$\n",
    "3. Se debe cumplir que $a[i] = a[i-1]^2$ para todo $1 \\leq i \\leq 60$\n",
    "\n",
    "<br>\n",
    "\n",
    "Podemos expresar estas restricciones en forma polinomial tal que:\n",
    "1. $f(x)-2$ que tiene como raíz $x=g^0=1$\n",
    "2. $f(x)-1610563584$ que tiene como raíz $x=g^{60}$\n",
    "3. $f(g·x) - f(x)^2$ que se anula cuando se evalua en $x$ tal que $x \\in G \\backslash \\{g^{i}|i \\geq 60\\}$\n",
    "\n",
    "<br>\n",
    "\n",
    "Luego, obtenemos las funciones racionales dividiendo las expresiones anteriores por $(x-x')$ tal que $x'$ es raíz de la función del numerador.\n",
    "\n",
    "#### Restricción 1\n",
    "$$\\frac{f(x)-2}{x-1}$$\n",
    "\n",
    "#### Restricción 2\n",
    "$$\\frac{f(x)-1610563584}{x-g^{60}}$$\n",
    "\n",
    "#### Restricción 3\n",
    "$$\\frac{f(g·x)-f(x)^2}{\\prod\\limits_{i=0}^{59} (x-g^i)}$$"
   ]
  },
  {
   "cell_type": "code",
   "execution_count": 186,
   "id": "d0378571",
   "metadata": {},
   "outputs": [],
   "source": [
    "from utils.polynomial import X, prod\n",
    "\n",
    "#Primera Restricción\n",
    "numer0 = f - 2\n",
    "denom0 = X - 1\n",
    "\n",
    "p0 = numer0 / denom0\n",
    "\n",
    "#Segunda Restricción\n",
    "numer1 = f - 1610563584\n",
    "denom1 = X - g**60\n",
    "\n",
    "p1 = numer1 / denom1"
   ]
  },
  {
   "attachments": {},
   "cell_type": "markdown",
   "id": "1d389122",
   "metadata": {},
   "source": [
    "Similar a la anterior estrategia, para la tercera restricción, reescribimos el denominador aprovechando la propiedad:\n",
    "$$\\prod\\limits_{i=0}^{63} (x-g^i) = x^{64} - 1$$ "
   ]
  },
  {
   "cell_type": "code",
   "execution_count": 187,
   "id": "502caa91",
   "metadata": {},
   "outputs": [],
   "source": [
    "#Tercera Restricción\n",
    "from functools import reduce\n",
    "\n",
    "numer2 = f(g*X) - f**2\n",
    "#Cálculo de (X-g^60)*(X-g^61)*(X-g^62)*(X-g^63)\n",
    "r = reduce(lambda x, y: x * y, [(X-g**i) for i in range(60,64)])\n",
    "denom2 = ((X**64)-1)/r\n",
    "\n",
    "p2 = numer2/denom2"
   ]
  },
  {
   "attachments": {},
   "cell_type": "markdown",
   "id": "fea8a536",
   "metadata": {},
   "source": [
    "### Combinación de polinomios\n",
    "\n",
    "De la mimsma forma, y utilizando las funciones definidas en la estrategia 1, realizando una combinación lineal de $p0$,$p1$,$p2$ obtenemos\n",
    "$$CP(x) = \\alpha_0 \\cdot p_0(x) + \\alpha_1 \\cdot p_1(x) + \\alpha_2 \\cdot  p_2(x)$$\n",
    "\n",
    "Luego, evaluaremos nuestro CP en `eval_domain`."
   ]
  },
  {
   "cell_type": "code",
   "execution_count": 188,
   "id": "f7f3ac80",
   "metadata": {},
   "outputs": [],
   "source": [
    "cp = get_CP(channel,[p0,p1,p2])\n",
    "cp_eval = CP_eval(cp, eval_domain)\n",
    "\n",
    "#Armamos el Merkle tree con las evaluaciones\n",
    "cp_merkle = MerkleTree(cp_eval)\n",
    "\n",
    "#Enviamos la raíz del árbol\n",
    "channel.send(cp_merkle.root)"
   ]
  },
  {
   "attachments": {},
   "cell_type": "markdown",
   "id": "15dbdb88",
   "metadata": {},
   "source": [
    "### FRI\n",
    "\n",
    "El proceso de aplicar FRI es exactamente igual al realizado anteriormente en la primera estrategia, por lo que usamos las mismas funciones"
   ]
  },
  {
   "cell_type": "code",
   "execution_count": 189,
   "id": "07b24972",
   "metadata": {},
   "outputs": [],
   "source": [
    "fri_polys, fri_domains, fri_layers, fri_merkles = FriCommit(cp, eval_domain, cp_eval, cp_merkle, channel)"
   ]
  },
  {
   "attachments": {},
   "cell_type": "markdown",
   "id": "87a50dab-f79e-47e9-8c6a-a6ba24436049",
   "metadata": {
    "tags": []
   },
   "source": [
    "## Estrategia 3: $a_0 = 2$ y $a_{2n+1}=a_{2n}^2$ y $a_{2n}=a_{2n-1}^4$"
   ]
  },
  {
   "attachments": {},
   "cell_type": "markdown",
   "id": "69e2c6e4-405e-4b51-bf48-a550822d23d4",
   "metadata": {},
   "source": [
    "### Polinomio de la traza\n",
    "\n",
    "En primer lugar generamos la traza, donde $a_0 = 2$, y luego los elementos de índice impar se calcularán elevando al cuadrado el elemento anterior, mientras que los de índice par se calcularán elevando a la cuarta el anterior."
   ]
  },
  {
   "cell_type": "code",
   "execution_count": 190,
   "id": "29f18245-71c2-4369-a41f-428742bc6948",
   "metadata": {
    "tags": []
   },
   "outputs": [
    {
     "name": "stdout",
     "output_type": "stream",
     "text": [
      "El tamaño de la traza es: 41\n"
     ]
    }
   ],
   "source": [
    "a0 = FieldElement(2)\n",
    "a = [a0]\n",
    "for i in range(40):\n",
    "    a.append(a[-1]**2) if i%2 else a.append(a[-1]**4)\n",
    "\n",
    "print(f\"El tamaño de la traza es: {len(a)}\")"
   ]
  },
  {
   "cell_type": "code",
   "execution_count": 191,
   "id": "5feed908",
   "metadata": {},
   "outputs": [
    {
     "name": "stdout",
     "output_type": "stream",
     "text": [
      "Traza creada correctamente\n"
     ]
    }
   ],
   "source": [
    "#Algunos chequeos de la traza\n",
    "assert len(a) == 41\n",
    "assert a[0] == FieldElement(2)\n",
    "assert a[-1] == FieldElement(2)**(8**20)\n",
    "print(\"Traza creada correctamente\")"
   ]
  },
  {
   "attachments": {},
   "cell_type": "markdown",
   "id": "c408a2e2-f3fc-4101-aea4-bf439068fede",
   "metadata": {},
   "source": [
    "Ahora hallamos un generador $g$ que nos permita generar un grupo de tamaño 20. Para esto, necesitamos que el tamaño de $G$ sea de $32$ al igual que en la estrategia 1\n",
    "\n",
    "$\n",
    "32 = \\frac {|\\mathbb{F}^\\times|}{k} \\\\\n",
    "32 = \\frac{3221225472}{k} \\\\\n",
    "k = \\frac{3221225472}{32} = 100663296\n",
    "$"
   ]
  },
  {
   "cell_type": "code",
   "execution_count": 192,
   "id": "3c13fb7f-5e04-40c1-9e2d-d53f7b67b630",
   "metadata": {
    "tags": []
   },
   "outputs": [
    {
     "name": "stdout",
     "output_type": "stream",
     "text": [
      "El grupo no tiene orden 32\n"
     ]
    },
    {
     "ename": "AssertionError",
     "evalue": "None",
     "output_type": "error",
     "traceback": [
      "\u001b[1;31m---------------------------------------------------------------------------\u001b[0m",
      "\u001b[1;31mAssertionError\u001b[0m                            Traceback (most recent call last)",
      "Cell \u001b[1;32mIn[192], line 5\u001b[0m\n\u001b[0;32m      2\u001b[0m g,G \u001b[39m=\u001b[39m get_group(generator,\u001b[39mlen\u001b[39m(a))\n\u001b[0;32m      4\u001b[0m \u001b[39m#Algunos chequeos del grupo generado\u001b[39;00m\n\u001b[1;32m----> 5\u001b[0m \u001b[39massert\u001b[39;00m g\u001b[39m.\u001b[39mis_order(\u001b[39m32\u001b[39m), \u001b[39mprint\u001b[39m(\u001b[39m\"\u001b[39m\u001b[39mEl grupo no tiene orden 32\u001b[39m\u001b[39m\"\u001b[39m)\n\u001b[0;32m      6\u001b[0m \u001b[39massert\u001b[39;00m G[\u001b[39m-\u001b[39m\u001b[39m1\u001b[39m]\u001b[39m*\u001b[39mg \u001b[39m==\u001b[39m FieldElement(\u001b[39m1\u001b[39m), \u001b[39mprint\u001b[39m(\u001b[39m\"\u001b[39m\u001b[39mNo es ciclico\u001b[39m\u001b[39m\"\u001b[39m)\n\u001b[0;32m      7\u001b[0m \u001b[39mprint\u001b[39m(\u001b[39m\"\u001b[39m\u001b[39mGrupo generado correctamente\u001b[39m\u001b[39m\"\u001b[39m)\n",
      "\u001b[1;31mAssertionError\u001b[0m: None"
     ]
    }
   ],
   "source": [
    "generator = FieldElement.generator()\n",
    "g,G = get_group(generator,len(a))\n",
    "\n",
    "#Algunos chequeos del grupo generado\n",
    "assert g.is_order(32), print(\"El grupo no tiene orden 32\")\n",
    "assert G[-1]*g == FieldElement(1), print(\"No es ciclico\")\n",
    "print(\"Grupo generado correctamente\")"
   ]
  },
  {
   "attachments": {},
   "cell_type": "markdown",
   "id": "2f301d1f-e741-45aa-9105-52eb0bdfd723",
   "metadata": {},
   "source": [
    "Por último, para obtener el polinomio de la traza interpolamos los 20 puntos $(x_i,y_i)$ tal que:\n",
    "- $x_i$: es el elemento $i$ del grupo $G$ generado.\n",
    "- $y_i$: es el elemento $i$ de la traza"
   ]
  },
  {
   "cell_type": "code",
   "execution_count": null,
   "id": "93d7844a-86d9-4edc-a0d5-68e3803d2af8",
   "metadata": {
    "tags": []
   },
   "outputs": [],
   "source": [
    "from utils.polynomial import interpolate_poly\n",
    "f = interpolate_poly(G[:len(a)],a)"
   ]
  },
  {
   "attachments": {},
   "cell_type": "markdown",
   "id": "a2401e87-eff0-4a6a-893b-cb11c2586d70",
   "metadata": {},
   "source": [
    "### Expansión\n",
    "\n",
    "$$eval\\_domain = \\{w\\cdot h^i | 0 \\leq i <256  \\}$$"
   ]
  },
  {
   "cell_type": "code",
   "execution_count": null,
   "id": "47f2a38d-ca37-4270-a447-ddd5521b64a8",
   "metadata": {
    "tags": []
   },
   "outputs": [],
   "source": [
    "#Obtenemos dominio de evaluacion\n",
    "eval_domain = expand_domain(len(G)*8)\n",
    "\n",
    "#Evaluamos en el polinomio de la traza\n",
    "f_eval = [f(x) for x in eval_domain]\n",
    "\n",
    "#Armamos el Merkle tree con las evaluaciones\n",
    "f_merkle = MerkleTree(f_eval)\n",
    "\n",
    "#Instanciamos un canal y enviamos la raíz del árbol\n",
    "channel = Channel()\n",
    "channel.send(f_merkle.root)"
   ]
  },
  {
   "attachments": {},
   "cell_type": "markdown",
   "id": "586dd900-aef7-44d7-bb4f-55530ddf9754",
   "metadata": {},
   "source": [
    "### Restricciones"
   ]
  },
  {
   "attachments": {},
   "cell_type": "markdown",
   "id": "1c27d7e2-1719-4dcb-acc3-31d1229074d1",
   "metadata": {},
   "source": [
    "Las primeras dos restricciones que fijan el valor del primer y último elemento de la traza se mantienen. Sin embargo, la restricción que determina el valor de los elementos intermedios ahora la vamos a dividir en dos: una para los valores de índice par y otra para los de índice impar.\n",
    "1. El primer elemento de la traza debe ser igual a $2$. Esto es $a[0] = 2$.\n",
    "2. El último elemento de la traza debe ser igual a $2^{8^{20}}$. Esto es $a[-1] = 2^{8^{20}} mod(p) = 1610563584$\n",
    "3. Se debe cumplir que $a[i] = a[i-1]^2$ para todo $i$ tal que $i=1 \\ mod(2)$ y $i < 19$\n",
    "4. Se debe cumplir que $a[i] = a[i-1]^4$ para todo $i$ tal que $i=0 \\ mod(2)$ y $i < 19$\n",
    "\n",
    "<br>\n",
    "\n",
    "Podemos expresar estas restricciones en forma polinomial tal que:\n",
    "1. $f(x)-2$ que tiene como raíz $x=g^0=1$\n",
    "2. $f(x)-1610563584$ que tiene como raíz $x=g^{19}$\n",
    "3. $f(g·x) - f(x)^2$ que se anula cuando se evalua en $x$ tal que $x \\in \\{g^i | i=0 \\ mod(2), i < 19 \\}$\n",
    "4. $f(g·x) - f(x)^4$ que se anula cuando se evalua en $x$ tal que $x \\in \\{g^i | i=1 \\ mod(2), i < 19 \\}$\n",
    "\n",
    "<br>\n",
    "\n",
    "Luego, obtenemos las funciones racionales dividiendo las expresiones anteriores por $(x-x')$ tal que $x'$ es raíz de la función del numerador.\n",
    "\n",
    "#### Restricción 1\n",
    "$$\\frac{f(x)-2}{x-1}$$\n",
    "\n",
    "#### Restricción 2\n",
    "$$\\frac{f(x)-1610563584}{x-g^{19}}$$\n",
    "\n",
    "#### Restricción 3\n",
    "$$\\frac{f(g·x)-f(x)^2}{\\prod\\limits_{n=0}^{9} (x-g^{2n})}$$\n",
    "\n",
    "#### Restricción 4\n",
    "$$\\frac{f(g·x)-f(x)^4}{\\prod\\limits_{n=0}^{8} (x-g^{2n+1})}$$"
   ]
  },
  {
   "cell_type": "code",
   "execution_count": null,
   "id": "b4523074-7ee9-4a6f-b254-76ce233f0006",
   "metadata": {
    "tags": []
   },
   "outputs": [],
   "source": [
    "from utils.polynomial import X, prod\n",
    "\n",
    "#Primera Restricción\n",
    "numer0 = f - 2\n",
    "denom0 = X - 1\n",
    "\n",
    "p0 = numer0 / denom0\n",
    "\n",
    "#Segunda Restricción\n",
    "numer1 = f - 1610563584\n",
    "denom1 = X - g**19\n",
    "\n",
    "p1 = numer1 / denom1\n",
    "\n",
    "#Tercera Restricción\n",
    "numer2 = f(g*X) - f**2\n",
    "#Cálculo de (X-g^i) tal que i es par\n",
    "denom2 = reduce(lambda x, y: x * y, [(X-g**i) for i in range(0,19,2)])\n",
    "\n",
    "p2 = numer2/denom2\n",
    "\n",
    "#Cuarta Restricción\n",
    "numer3 = f(g*X) - f**4\n",
    "#Cálculo de (X-g^i) tal que i es impar\n",
    "denom3 = reduce(lambda x, y: x * y, [(X-g**i) for i in range(1,19,2)])\n",
    "\n",
    "p3 = numer3/denom3"
   ]
  },
  {
   "attachments": {},
   "cell_type": "markdown",
   "id": "b79bb79e-e4e9-4826-aac2-d10e1cbca4cd",
   "metadata": {},
   "source": [
    "### Combinación de polinomios\n",
    "\n",
    "De la mimsma forma, y utilizando las funciones definidas en la estrategia 1, realizando una combinación lineal de $p0$,$p1$,$p2$,$p3$ obtenemos\n",
    "$$CP(x) = \\alpha_0 \\cdot p_0(x) + \\alpha_1 \\cdot p_1(x) + \\alpha_2 \\cdot  p_2(x) + \\alpha_3 \\cdot  p_3(x)$$\n",
    "\n",
    "Luego, evaluaremos nuestro CP en `eval_domain`."
   ]
  },
  {
   "cell_type": "code",
   "execution_count": null,
   "id": "1aaae429-03da-4168-b216-6d7a5f55e049",
   "metadata": {},
   "outputs": [],
   "source": [
    "cp = get_CP(channel,[p0,p1,p2,p3])\n",
    "cp_eval = CP_eval(cp, eval_domain)\n",
    "\n",
    "#Armamos el Merkle tree con las evaluaciones\n",
    "cp_merkle = MerkleTree(cp_eval)\n",
    "\n",
    "#Enviamos la raíz del árbol\n",
    "channel.send(cp_merkle.root)"
   ]
  },
  {
   "attachments": {},
   "cell_type": "markdown",
   "id": "29c334e0-1248-4a61-a14c-a11d24f1038e",
   "metadata": {},
   "source": [
    "## Estrategia 4: Usar dos columnas"
   ]
  },
  {
   "attachments": {},
   "cell_type": "markdown",
   "id": "412cb29f",
   "metadata": {},
   "source": [
    "### Polinomio de la traza\n",
    "En este caso, la traza es un poco distinta. La misma está conformada por dos columnas/listas: a y b. El primer elemento de a es $a_0 = 2$ y el resto de elementos sigue la relación $a_{n+1}=b_n^4$ para $0 \\le n \\le 19$. Por otro lado, los elementos de b siguen la relación $b_{n}=a_n^2$ para $0 \\le n \\le 19$. De esta manera, el último elemento de a será $a_{20}=b_{19}^4=2^{8^{20}}$."
   ]
  },
  {
   "cell_type": "code",
   "execution_count": 195,
   "id": "0c3a0f4a",
   "metadata": {},
   "outputs": [
    {
     "name": "stdout",
     "output_type": "stream",
     "text": [
      "Traza creada correctamente\n"
     ]
    }
   ],
   "source": [
    "a0 = FieldElement(2)\n",
    "a = [a0]\n",
    "b = []\n",
    "\n",
    "for i in range(20):\n",
    "    b.append(a[-1]**2)\n",
    "    a.append(b[-1]**4)\n",
    "\n",
    "#Algunos chequeos de la traza\n",
    "assert len(a) == 21\n",
    "assert len(b) == 20\n",
    "assert a[0] == FieldElement(2)\n",
    "assert a[-1] == FieldElement(2)**(8**20)\n",
    "print(\"Traza creada correctamente\")"
   ]
  }
 ],
 "metadata": {
  "kernelspec": {
   "display_name": "Python 3 (ipykernel)",
   "language": "python",
   "name": "python3"
  },
  "language_info": {
   "codemirror_mode": {
    "name": "ipython",
    "version": 3
   },
   "file_extension": ".py",
   "mimetype": "text/x-python",
   "name": "python",
   "nbconvert_exporter": "python",
   "pygments_lexer": "ipython3",
   "version": "3.8.10"
  }
 },
 "nbformat": 4,
 "nbformat_minor": 5
}
