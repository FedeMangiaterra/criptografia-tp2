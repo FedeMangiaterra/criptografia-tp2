{
 "cells": [
  {
   "attachments": {},
   "cell_type": "markdown",
   "id": "26c46c6b-81d9-41dc-b9f5-9cefe76670f0",
   "metadata": {},
   "source": [
    "# Trabajo Práctico 2: Pruebas de validez\n",
    "\n",
    "Las pruebas de validez nos permiten probar que un cómputo se ha realizado correctamente en un tiempo bastante menor que la verificación trivial, es decir, que el cómputo sea corrido de manera independiente por el verificador. En este trabajo práctico, nos enfocaremos en el sistema de pruebas STARKs en forma simplificada. Para el trabajo práctico, se podrá hacer uso de las herramientas provistas en https://github.com/starkware-industries/stark101 (python) o https://github.com/lambdaclass/STARK101-rs/tree/main (rust)."
   ]
  },
  {
   "attachments": {},
   "cell_type": "markdown",
   "id": "42188ac9-30d3-46cd-a8c6-630a7d0787e1",
   "metadata": {},
   "source": [
    "## Objetivo\n",
    "\n",
    "El objetivo consiste en probar la validez de un programa que calcula 2^{8^20} módulo p, utilizando diferentes estrategias y viendo el perfil de costos (tanto en términos de longitud de la prueba como de tiempo de generación). Las estrategias propuestas son:\n",
    "\n",
    "1. Considerar $a_0 = 2$ y $a_{n+1}=a_n^8$.\n",
    "2. Considerar $a_0 = 2$ y $a_{n+1}=a_n^2$.\n",
    "3. Considerar $a_0 = 2$ y $a_{2n+1}=a_{2n}^2$ y $a_{2n}=a_{2n-1}^4$.\n",
    "4. Usando 2 columnas\n",
    "\n",
    "Tener en cuenta que, dado el grado de las restricciones, se requiere usar un factor de expansión (blowup) por lo menos tan grande como el grado de las restricciones."
   ]
  },
  {
   "attachments": {},
   "cell_type": "markdown",
   "id": "638fa8d1-26d1-4c1e-bec4-175db30577a0",
   "metadata": {},
   "source": [
    "## Propuesta 1: $a_0 = 2$ y $a_{n+1}=a_n^8$"
   ]
  },
  {
   "attachments": {},
   "cell_type": "markdown",
   "id": "46a5954e-73d5-4186-9ac1-d6da346b4434",
   "metadata": {},
   "source": [
    "### Polinomio de la traza\n",
    "Primero vamos a generar la traza. La misma es una lista de 21 elementos, siendo el primero de ellos $a_0 = 2$ y siendo $a_n=a_{n-1}^8$ para $1 \\le n \\le 20$. De esta manera, el último elemento será $a_{20}=a_{19}^8=2^{8^{20}}$."
   ]
  },
  {
   "cell_type": "code",
   "execution_count": 1,
   "id": "266a5c55-b8ac-4d01-ba00-96c196b7659e",
   "metadata": {
    "tags": []
   },
   "outputs": [],
   "source": [
    "from utils.field import FieldElement\n",
    "\n",
    "a0 = FieldElement(2)\n",
    "a = [a0]\n",
    "for i in range(20):\n",
    "    a.append(a[-1]**8)"
   ]
  },
  {
   "cell_type": "code",
   "execution_count": 2,
   "id": "518997c3-2e28-401a-82c1-efdcfa2725db",
   "metadata": {
    "tags": []
   },
   "outputs": [
    {
     "name": "stdout",
     "output_type": "stream",
     "text": [
      "Traza creada correctamente\n"
     ]
    }
   ],
   "source": [
    "#Algunos chequeos de la traza\n",
    "assert len(a) == 21\n",
    "assert a[0] == FieldElement(2)\n",
    "assert a[-1] == FieldElement(2)**(8**20)\n",
    "print(\"Traza creada correctamente\")"
   ]
  },
  {
   "attachments": {},
   "cell_type": "markdown",
   "id": "5e02316a-48ed-4495-9016-174af96dd37e",
   "metadata": {},
   "source": [
    "Ahora hallamos un generador $g$ que nos permita generar un grupo de tamaño 21. \n",
    "\n",
    "Sabiendo que $g^k$ genera un grupo de tamaño $\\frac {|\\mathbb{F}^\\times|}{k}$ cuando $k$ divide a $|\\mathbb{F}^\\times|$, debemos hallar $k$ tal que:\n",
    "\n",
    "$\n",
    "21 = \\frac {|\\mathbb{F}^\\times|}{k} \\\\\n",
    "21 = \\frac{3221225472}{k} \\\\\n",
    "k = \\frac{3221225472}{21} = 153391689.143\n",
    "$\n",
    "\n",
    "Como vemos, $k$ nos queda como un número decimal. Entonces, debemos buscar un número potencia de 2 más próximo a 21 (y más grande) tal que divida a 3221225472, es decir, 32, por eso lo fijamos como el tamaño de nuestra traza. Ahora sí, calculamos $k$\n",
    "\n",
    "$\n",
    "32 = \\frac {|\\mathbb{F}^\\times|}{k} \\\\\n",
    "32 = \\frac{3221225472}{k} \\\\\n",
    "k = \\frac{3221225472}{32} = 100663296\n",
    "$"
   ]
  },
  {
   "cell_type": "code",
   "execution_count": 3,
   "id": "fb78fa79-6230-453a-9557-5ed358aeada6",
   "metadata": {
    "tags": []
   },
   "outputs": [],
   "source": [
    "import math\n",
    "\n",
    "def get_group(generator, trace_len):\n",
    "    size = 2 ** math.ceil(math.log2(trace_len))\n",
    "    k = 3*(2**30)/size\n",
    "    g = generator ** (k)\n",
    "    G = [] \n",
    "    for i in range(size):\n",
    "        G.append(g**i)\n",
    "    \n",
    "    return g,G"
   ]
  },
  {
   "cell_type": "code",
   "execution_count": 4,
   "id": "25a8ff31-273e-4749-97c6-b2969e22ee5e",
   "metadata": {
    "tags": []
   },
   "outputs": [],
   "source": [
    "generator = FieldElement.generator()\n",
    "g,G = get_group(generator,len(a))"
   ]
  },
  {
   "cell_type": "code",
   "execution_count": 5,
   "id": "6ea8a0ce-2ebd-42ff-832b-5e90b1202905",
   "metadata": {
    "tags": []
   },
   "outputs": [
    {
     "name": "stdout",
     "output_type": "stream",
     "text": [
      "Grupo generado correctamente\n"
     ]
    }
   ],
   "source": [
    "#Algunos chequeos del grupo generado\n",
    "assert g.is_order(32), print(\"El grupo no tiene orden 32\")\n",
    "assert G[-1]*g == FieldElement(1), print(\"No es ciclico\")\n",
    "print(\"Grupo generado correctamente\")"
   ]
  },
  {
   "attachments": {},
   "cell_type": "markdown",
   "id": "84c4c447-c8cc-4bea-82e5-fd006036177d",
   "metadata": {},
   "source": [
    "Pr último, para obtener el polinomio de la traza interpolamos los 21 puntos $(x_i,y_i)$ tal que:\n",
    "- $x_i$: es el elemento $i$ del grupo $G$ generado.\n",
    "- $y_i$: es el elemento $i$ de la traza"
   ]
  },
  {
   "cell_type": "code",
   "execution_count": 6,
   "id": "f7c3d2cf-83c8-4b97-a31a-5ff5e28e3e2d",
   "metadata": {
    "tags": []
   },
   "outputs": [],
   "source": [
    "from utils.polynomial import interpolate_poly\n",
    "f = interpolate_poly(G[:21],a)"
   ]
  },
  {
   "attachments": {},
   "cell_type": "markdown",
   "id": "bb7e0e38-bb2a-4450-bd50-d37dae596b63",
   "metadata": {},
   "source": [
    "### Expansión\n",
    "Ahora realizamos la expansión, donde evaluamos nuestro polinomio sobre un dominio más grande. Para eso, creamos un grupo nuevo $H$ el cual será 8 veces más grande que $G$ y posteriormente, obtenemos el dominio de evaluación tal que\n",
    "\n",
    "$$eval\\_domain = \\{w\\cdot h^i | 0 \\leq i <256  \\}$$"
   ]
  },
  {
   "cell_type": "code",
   "execution_count": 10,
   "id": "dd1891b4-f78b-432a-81b0-763aa4410041",
   "metadata": {
    "tags": []
   },
   "outputs": [],
   "source": [
    "from utils.merkle import MerkleTree\n",
    "from utils.channel import Channel\n",
    "\n",
    "def expand_domain(length):\n",
    "    w = FieldElement.generator()\n",
    "    h,H =get_group(w, length)\n",
    "    eval_domain = [w*(h**i) for i in range(len(H))]\n",
    "    return eval_domain\n",
    "\n",
    "#Obtenemos dominio de evaluacion\n",
    "eval_domain = expand_domain(len(G)*8)\n",
    "\n",
    "#Evaluamos en el polinomio de la traza\n",
    "f_eval = [f(x) for x in eval_domain]\n",
    "\n",
    "#Armamos el Merkle tree con las evaluaciones\n",
    "f_merkle = MerkleTree(f_eval)\n",
    "\n",
    "#Instanciamos un canal y enviamos la raíz del árbol\n",
    "channel = Channel()\n",
    "channel.send(f_merkle.root)"
   ]
  },
  {
   "attachments": {},
   "cell_type": "markdown",
   "id": "a3b2fdf6-a881-4f01-bf45-a692cccc1bef",
   "metadata": {},
   "source": [
    "### Restricciones"
   ]
  },
  {
   "attachments": {},
   "cell_type": "markdown",
   "id": "32f97be1-6e2a-4c5e-9e1c-3463b6737a64",
   "metadata": {
    "tags": []
   },
   "source": [
    "Tenemos tres restricciones a tener en cuenta:\n",
    "1. El primer elemento de la traza debe ser igual a $2$. Esto es $a[0] = 2$.\n",
    "2. El último elemento de la traza debe ser igual a $2^{8^{20}}$. Esto es $a[-1] = 2^{8^{20}} mod(p) = 1610563584$\n",
    "3. Se debe cumplir que $a[i+1] = a[i]^8$ para todo $0 \\leq i \\leq 19$"
   ]
  },
  {
   "cell_type": "code",
   "execution_count": 26,
   "id": "9918710c",
   "metadata": {},
   "outputs": [],
   "source": [
    "from utils.polynomial import X, prod\n",
    "\n",
    "#Primera Restricción\n",
    "numer0 = f - 2\n",
    "denom0 = X - 1\n",
    "\n",
    "p0 = numer0 / denom0\n",
    "\n",
    "#Segunda Restricción\n",
    "numer1 = f - 1610563584\n",
    "denom1 = X - g**20\n",
    "\n",
    "p1 = numer1 / denom1\n",
    "\n",
    "#Tercera Restricción\n",
    "numer2 = f(g*X) - f**8\n",
    "\n"
   ]
  },
  {
   "attachments": {},
   "cell_type": "markdown",
   "id": "31c50013-f5dc-48c9-a0a1-83f8e1061a54",
   "metadata": {},
   "source": [
    "## Propuesta 2: $a_0 = 2$ y $a_{n+1}=a_n^2$"
   ]
  },
  {
   "attachments": {},
   "cell_type": "markdown",
   "id": "87a50dab-f79e-47e9-8c6a-a6ba24436049",
   "metadata": {},
   "source": [
    "## Propuesta 3: $a_0 = 2$ y $a_{2n+1}=a_{2n}^2$ y $a_{2n}=a_{2n-1}^4$"
   ]
  },
  {
   "attachments": {},
   "cell_type": "markdown",
   "id": "29c334e0-1248-4a61-a14c-a11d24f1038e",
   "metadata": {},
   "source": [
    "## Propuesta 4: Usar dos columnas"
   ]
  }
 ],
 "metadata": {
  "kernelspec": {
   "display_name": "Python 3 (ipykernel)",
   "language": "python",
   "name": "python3"
  },
  "language_info": {
   "codemirror_mode": {
    "name": "ipython",
    "version": 3
   },
   "file_extension": ".py",
   "mimetype": "text/x-python",
   "name": "python",
   "nbconvert_exporter": "python",
   "pygments_lexer": "ipython3",
   "version": "3.11.4"
  }
 },
 "nbformat": 4,
 "nbformat_minor": 5
}
