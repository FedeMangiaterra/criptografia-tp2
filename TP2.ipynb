{
 "cells": [
  {
   "cell_type": "markdown",
   "id": "26c46c6b-81d9-41dc-b9f5-9cefe76670f0",
   "metadata": {},
   "source": [
    "# Trabajo Práctico 2: Pruebas de validez\n",
    "\n",
    "Las pruebas de validez nos permiten probar que un cómputo se ha realizado correctamente en un tiempo bastante menor que la verificación trivial, es decir, que el cómputo sea corrido de manera independiente por el verificador. En este trabajo práctico, nos enfocaremos en el sistema de pruebas STARKs en forma simplificada. Para el trabajo práctico, se podrá hacer uso de las herramientas provistas en https://github.com/starkware-industries/stark101 (python) o https://github.com/lambdaclass/STARK101-rs/tree/main (rust)."
   ]
  },
  {
   "cell_type": "markdown",
   "id": "42188ac9-30d3-46cd-a8c6-630a7d0787e1",
   "metadata": {},
   "source": [
    "## Objetivo\n",
    "\n",
    "El objetivo consiste en probar la validez de un programa que calcula 2^{8^20} módulo p, utilizando diferentes estrategias y viendo el perfil de costos (tanto en términos de longitud de la prueba como de tiempo de generación). Las estrategias propuestas son:\n",
    "\n",
    "1. Considerar $a_0 = 2$ y $a_{n+1}=a_n^8$.\n",
    "2. Considerar $a_0 = 2$ y $a_{n+1}=a_n^2$.\n",
    "3. Considerar $a_0 = 2$ y $a_{2n+1}=a_{2n}^2$ y $a_{2n}=a_{2n-1}^4$.\n",
    "4. Usando 2 columnas\n",
    "\n",
    "Tener en cuenta que, dado el grado de las restricciones, se requiere usar un factor de expansión (blowup) por lo menos tan grande como el grado de las restricciones."
   ]
  },
  {
   "cell_type": "markdown",
   "id": "638fa8d1-26d1-4c1e-bec4-175db30577a0",
   "metadata": {},
   "source": [
    "## Estrategia 1: $a_0 = 2$ y $a_{n+1}=a_n^8$"
   ]
  },
  {
   "cell_type": "markdown",
   "id": "46a5954e-73d5-4186-9ac1-d6da346b4434",
   "metadata": {},
   "source": [
    "### Polinomio de la traza\n",
    "Primero vamos a generar la traza. La misma es una lista de 21 elementos, siendo el primero de ellos $a_0 = 2$ y siendo $a_n=a_{n-1}^8$ para $1 \\le n \\le 20$. De esta manera, el último elemento será $a_{20}=a_{19}^8=2^{8^{20}}$."
   ]
  },
  {
   "cell_type": "code",
   "execution_count": 1,
   "id": "266a5c55-b8ac-4d01-ba00-96c196b7659e",
   "metadata": {
    "tags": []
   },
   "outputs": [],
   "source": [
    "from utils.field import FieldElement\n",
    "\n",
    "a0 = FieldElement(2)\n",
    "a = [a0]\n",
    "for i in range(20):\n",
    "    a.append(a[-1]**8)"
   ]
  },
  {
   "cell_type": "code",
   "execution_count": 2,
   "id": "518997c3-2e28-401a-82c1-efdcfa2725db",
   "metadata": {
    "tags": []
   },
   "outputs": [
    {
     "name": "stdout",
     "output_type": "stream",
     "text": [
      "Traza creada correctamente\n"
     ]
    }
   ],
   "source": [
    "#Algunos chequeos de la traza\n",
    "assert len(a) == 21\n",
    "assert a[0] == FieldElement(2)\n",
    "assert a[-1] == FieldElement(2)**(8**20)\n",
    "print(\"Traza creada correctamente\")"
   ]
  },
  {
   "cell_type": "markdown",
   "id": "5e02316a-48ed-4495-9016-174af96dd37e",
   "metadata": {},
   "source": [
    "Ahora hallamos un generador $g$ que nos permita generar un grupo de tamaño 21. \n",
    "\n",
    "Sabiendo que $g^k$ genera un grupo de tamaño $\\frac {|\\mathbb{F}^\\times|}{k}$ cuando $k$ divide a $|\\mathbb{F}^\\times|$, debemos hallar $k$ tal que:\n",
    "\n",
    "$\n",
    "21 = \\frac {|\\mathbb{F}^\\times|}{k} \\\\\n",
    "21 = \\frac{3221225472}{k} \\\\\n",
    "k = \\frac{3221225472}{21} = 153391689.143\n",
    "$\n",
    "\n",
    "Como vemos, $k$ nos queda como un número decimal. Entonces, debemos buscar un número potencia de 2 más próximo a 21 (y más grande) tal que divida a 3221225472, es decir, 32, por eso lo fijamos como el tamaño de nuestro grupo. Ahora sí, calculamos $k$\n",
    "\n",
    "$\n",
    "32 = \\frac {|\\mathbb{F}^\\times|}{k} \\\\\n",
    "32 = \\frac{3221225472}{k} \\\\\n",
    "k = \\frac{3221225472}{32} = 100663296\n",
    "$"
   ]
  },
  {
   "cell_type": "code",
   "execution_count": 3,
   "id": "fb78fa79-6230-453a-9557-5ed358aeada6",
   "metadata": {
    "tags": []
   },
   "outputs": [],
   "source": [
    "import math\n",
    "\n",
    "def get_group(generator, trace_len):\n",
    "    size = 2 ** math.ceil(math.log2(trace_len))\n",
    "    k = 3*(2**30)/size\n",
    "    g = generator ** (k)\n",
    "    G = [] \n",
    "    for i in range(size):\n",
    "        G.append(g**i)\n",
    "    \n",
    "    return g,G"
   ]
  },
  {
   "cell_type": "code",
   "execution_count": 4,
   "id": "25a8ff31-273e-4749-97c6-b2969e22ee5e",
   "metadata": {
    "tags": []
   },
   "outputs": [],
   "source": [
    "generator = FieldElement.generator()\n",
    "g,G = get_group(generator,len(a))"
   ]
  },
  {
   "cell_type": "code",
   "execution_count": 5,
   "id": "6ea8a0ce-2ebd-42ff-832b-5e90b1202905",
   "metadata": {
    "tags": []
   },
   "outputs": [
    {
     "name": "stdout",
     "output_type": "stream",
     "text": [
      "Grupo generado correctamente\n"
     ]
    }
   ],
   "source": [
    "#Algunos chequeos del grupo generado\n",
    "assert g.is_order(32), print(\"El grupo no tiene orden 32\")\n",
    "assert G[-1]*g == FieldElement(1), print(\"No es ciclico\")\n",
    "print(\"Grupo generado correctamente\")"
   ]
  },
  {
   "cell_type": "markdown",
   "id": "84c4c447-c8cc-4bea-82e5-fd006036177d",
   "metadata": {},
   "source": [
    "Por último, para obtener el polinomio de la traza interpolamos los 21 puntos $(x_i,y_i)$ tal que:\n",
    "- $x_i$: es el elemento $i$ del grupo $G$ generado.\n",
    "- $y_i$: es el elemento $i$ de la traza"
   ]
  },
  {
   "cell_type": "code",
   "execution_count": 6,
   "id": "f7c3d2cf-83c8-4b97-a31a-5ff5e28e3e2d",
   "metadata": {
    "tags": []
   },
   "outputs": [],
   "source": [
    "from utils.polynomial import interpolate_poly\n",
    "f = interpolate_poly(G[:21],a)"
   ]
  },
  {
   "cell_type": "markdown",
   "id": "bb7e0e38-bb2a-4450-bd50-d37dae596b63",
   "metadata": {},
   "source": [
    "### Expansión\n",
    "Ahora realizamos la expansión, donde evaluamos nuestro polinomio sobre un dominio más grande. Para eso, creamos un grupo nuevo $H$ el cual será 8 veces más grande que $G$ y posteriormente, obtenemos el dominio de evaluación tal que\n",
    "\n",
    "$$eval\\_domain = \\{w\\cdot h^i | 0 \\leq i <256  \\}$$"
   ]
  },
  {
   "cell_type": "code",
   "execution_count": 7,
   "id": "dd1891b4-f78b-432a-81b0-763aa4410041",
   "metadata": {
    "tags": []
   },
   "outputs": [],
   "source": [
    "from utils.merkle import MerkleTree\n",
    "from utils.channel import Channel\n",
    "\n",
    "def expand_domain(length):\n",
    "    w = FieldElement.generator()\n",
    "    h,H =get_group(w, length)\n",
    "    eval_domain = [w*(h**i) for i in range(len(H))]\n",
    "    return eval_domain\n",
    "\n",
    "#Obtenemos dominio de evaluacion\n",
    "eval_domain = expand_domain(len(G)*8)\n",
    "\n",
    "#Evaluamos en el polinomio de la traza\n",
    "f_eval = [f(x) for x in eval_domain]\n",
    "\n",
    "#Armamos el Merkle tree con las evaluaciones\n",
    "f_merkle = MerkleTree(f_eval)\n",
    "\n",
    "#Instanciamos un canal y enviamos la raíz del árbol\n",
    "channel = Channel()\n",
    "channel.send(f_merkle.root)"
   ]
  },
  {
   "cell_type": "markdown",
   "id": "a3b2fdf6-a881-4f01-bf45-a692cccc1bef",
   "metadata": {},
   "source": [
    "### Restricciones"
   ]
  },
  {
   "cell_type": "markdown",
   "id": "32f97be1-6e2a-4c5e-9e1c-3463b6737a64",
   "metadata": {
    "tags": []
   },
   "source": [
    "Tenemos tres restricciones a tener en cuenta:\n",
    "1. El primer elemento de la traza debe ser igual a $2$. Esto es $a[0] = 2$.\n",
    "2. El último elemento de la traza debe ser igual a $2^{8^{20}}$. Esto es $a[-1] = 2^{8^{20}} mod(p) = 1610563584$\n",
    "3. Se debe cumplir que $a[i] = a[i-1]^8$ para todo $1 \\leq i \\leq 20$\n",
    "\n",
    "<br>\n",
    "\n",
    "Podemos expresar estas restricciones en forma polinomial tal que:\n",
    "1. $f(x)-2$ que tiene como raíz $x=g^0=1$\n",
    "2. $f(x)-1610563584$ que tiene como raíz $x=g^{20}$\n",
    "3. $f(g·x) - f(x)^8$ que se anula cuando se evalua en $x$ tal que $x \\in G \\backslash \\{g^{i}|i \\geq 20\\}$\n",
    "\n",
    "<br>\n",
    "\n",
    "Luego, obtenemos las funciones racionales dividiendo las expresiones anteriores por $(x-x')$ tal que $x'$ es raíz de la función del numerador.\n",
    "\n",
    "#### Restricción 1\n",
    "$$\\frac{f(x)-2}{x-1}$$\n",
    "\n",
    "#### Restricción 2\n",
    "$$\\frac{f(x)-1610563584}{x-g^{20}}$$\n",
    "\n",
    "#### Restricción 3\n",
    "$$\\frac{f(g·x)-f(x)^8}{\\prod\\limits_{i=0}^{19} (x-g^i)}$$"
   ]
  },
  {
   "cell_type": "code",
   "execution_count": 8,
   "id": "9918710c",
   "metadata": {
    "tags": []
   },
   "outputs": [],
   "source": [
    "from utils.polynomial import X, prod\n",
    "\n",
    "#Primera Restricción\n",
    "numer0 = f - 2\n",
    "denom0 = X - 1\n",
    "\n",
    "p0 = numer0 / denom0\n",
    "\n",
    "#Segunda Restricción\n",
    "numer1 = f - 1610563584\n",
    "denom1 = X - g**20\n",
    "\n",
    "p1 = numer1 / denom1"
   ]
  },
  {
   "cell_type": "markdown",
   "id": "d5e32496-7f7b-468e-8676-a9a7d31463bc",
   "metadata": {},
   "source": [
    "Para la tercera restricción, aprovechamos la siguiente propiedad:\n",
    "$$\\prod\\limits_{i=0}^{31} (x-g^i) = x^{32} - 1$$ \n",
    "Veamos que podemos reescribir el denominador de forma que se nos faciliten las cuentas"
   ]
  },
  {
   "cell_type": "code",
   "execution_count": 9,
   "id": "1e6cdc77-b7c1-43e7-abb9-5964f2d0342d",
   "metadata": {
    "tags": []
   },
   "outputs": [
    {
     "data": {
      "text/latex": [
       "$ -1 + x^{32} $"
      ],
      "text/plain": [
       "<utils.polynomial.Polynomial at 0x7f25385d9df0>"
      ]
     },
     "execution_count": 9,
     "metadata": {},
     "output_type": "execute_result"
    }
   ],
   "source": [
    "lst = [X-g**i for i in range(32)]\n",
    "prod(lst)"
   ]
  },
  {
   "cell_type": "code",
   "execution_count": 10,
   "id": "43407395-6488-4100-b7f4-873695a9fa45",
   "metadata": {
    "tags": []
   },
   "outputs": [],
   "source": [
    "#Tercera Restricción\n",
    "from functools import reduce\n",
    "\n",
    "numer2 = f(g*X) - f**8\n",
    "#Cálculo de (X-g^20)*(X-g^21)*...*(X-g^31)\n",
    "r = reduce(lambda x, y: x * y, [(X-g**i) for i in range(20,32)])\n",
    "denom2 = ((X**32)-1)/r\n",
    "\n",
    "p2 = numer2/denom2"
   ]
  },
  {
   "cell_type": "markdown",
   "id": "2e681fd2-bc24-4769-b3e2-289b127fcd05",
   "metadata": {},
   "source": [
    "### Combinación de polinomios\n",
    "\n",
    "A partir de una combinación lineal de $p0$,$p1$,$p2$\n",
    "$$CP(x) = \\alpha_0 \\cdot p_0(x) + \\alpha_1 \\cdot p_1(x) + \\alpha_2 \\cdot  p_2(x)$$\n",
    "\n",
    "Donde $\\alpha_0, \\alpha_1, \\alpha_2 $ son valores random que los obtenemos dede el verificador. Si nuestra traza cumple con las restricciones, entonces $p0$, $p1$ y $p2$ serán polinomios y la combinación lineal resultante será con alta probabilidad un polinomio también.\n",
    "\n",
    "Luego, evaluaremos nuestro CP en `eval_domain`."
   ]
  },
  {
   "cell_type": "code",
   "execution_count": 11,
   "id": "9cda3f19-3bf9-40c8-84f2-ceab1dc61b59",
   "metadata": {
    "tags": []
   },
   "outputs": [],
   "source": [
    "def get_CP(channel):\n",
    "    alpha0 = channel.receive_random_field_element()\n",
    "    alpha1 = channel.receive_random_field_element()\n",
    "    alpha2 = channel.receive_random_field_element()\n",
    "    return alpha0*p0 + alpha1*p1 + alpha2*p2\n",
    "\n",
    "def CP_eval(cp, eval_domain):\n",
    "    return [cp(d) for d in eval_domain]\n",
    "\n",
    "cp = get_CP(channel)\n",
    "cp_eval = CP_eval(cp, eval_domain)\n",
    "\n",
    "#Armamos el Merkle tree con las evaluaciones\n",
    "cp_merkle = MerkleTree(cp_eval)\n",
    "\n",
    "#Enviamos la raíz del árbol\n",
    "channel.send(cp_merkle.root)"
   ]
  },
  {
   "cell_type": "markdown",
   "id": "2f50bbb4-8c14-4112-8c09-29ac853517fa",
   "metadata": {},
   "source": [
    "### FRI\n",
    "\n",
    "Al aplicar FRI, haremos sucesivas iteraciones, donde en cada una reduciremos el dominio de evaluacion y la cantidad de coeficientes a la mitad, reduciendo rambién a la mitad el grado del polinomio. Con esto conseguimos nueva layer.\n",
    "1. **Nuevo dominio de evaluación**: Nos quedamos con la primer mitad y elevamos al cuadrado los elementos.\n",
    "2. **Nuevo polinomio**: Separamos en coeficientes de indice par e impar, multiplicamos a los de indice impar por $\\beta$ y luego obtenemos los coeficientes del nuevo polinomio realizando la suma: $par + \\beta · impar$\n",
    "3. **Nueva layer**: Evaluamos el nuevo dominio en el nuevo polinomio"
   ]
  },
  {
   "cell_type": "code",
   "execution_count": 12,
   "id": "eb371093-7bfb-47f2-89dc-e582afeb8484",
   "metadata": {
    "tags": []
   },
   "outputs": [],
   "source": [
    "from utils.polynomial import Polynomial\n",
    "\n",
    "#Obtener nuevo dominio\n",
    "def next_fri_domain(fri_domain):\n",
    "    return [x ** 2 for x in fri_domain[:len(fri_domain) // 2]]\n",
    "\n",
    "#Obtener nuevo polinomio\n",
    "def next_fri_polynomial(poly, beta):\n",
    "    odd_coefficients = poly.poly[1::2] # No need to fix this line.\n",
    "    even_coefficients = poly.poly[::2] # No need to fix this line either.\n",
    "    odd = Polynomial(odd_coefficients)\n",
    "    even = Polynomial(even_coefficients)\n",
    "    return even + beta * odd\n",
    "\n",
    "#Obtener nueva layer\n",
    "def next_fri_layer(poly, domain, beta):\n",
    "    next_poly = next_fri_polynomial(poly, beta)\n",
    "    next_domain = next_fri_domain(domain)\n",
    "    next_layer = [next_poly(x) for x in next_domain]\n",
    "    return next_poly, next_domain, next_layer\n",
    "\n",
    "#Algoritmo FRI + Commitment\n",
    "def FriCommit(cp, domain, cp_eval, cp_merkle, channel):\n",
    "    fri_polys = [cp]\n",
    "    fri_domains = [domain]\n",
    "    fri_layers = [cp_eval]\n",
    "    fri_merkles = [cp_merkle]\n",
    "    \n",
    "    while fri_polys[-1].degree() > 0:\n",
    "        beta = channel.receive_random_field_element()\n",
    "        next_poly, next_domain, next_layer = next_fri_layer(fri_polys[-1], fri_domains[-1], beta)\n",
    "        fri_polys.append(next_poly)\n",
    "        fri_domains.append(next_domain)\n",
    "        fri_layers.append(next_layer)\n",
    "        fri_merkles.append(MerkleTree(next_layer))\n",
    "        #Enviamos raiz del Merkle Tree actual\n",
    "        channel.send(fri_merkles[-1].root)\n",
    "\n",
    "    #Enviamos constante del último polinomio\n",
    "    channel.send(str(fri_polys[-1].poly[0]))\n",
    "    return fri_polys, fri_domains, fri_layers, fri_merkles\n",
    "\n",
    "fri_polys, fri_domains, fri_layers, fri_merkles = FriCommit(cp, eval_domain, cp_eval, cp_merkle, channel)"
   ]
  },
  {
   "cell_type": "markdown",
   "id": "31c50013-f5dc-48c9-a0a1-83f8e1061a54",
   "metadata": {},
   "source": [
    "## Estrategia 2: $a_0 = 2$ y $a_{n+1}=a_n^2$"
   ]
  },
  {
   "cell_type": "markdown",
   "id": "040f45e3",
   "metadata": {},
   "source": [
    "### Polinomio de la traza\n",
    "Primero vamos a generar la traza. La misma es una lista de 81 elementos, siendo el primero de ellos $a_0 = 2$ y siendo $a_n=a_{n-1}^2$ para $1 \\le n \\le 80$. De esta manera, el último elemento será $a_{80}=a_{79}^2=2^{2^{80}}=2^{8^{20}}$."
   ]
  },
  {
   "cell_type": "code",
   "execution_count": 13,
   "id": "5e1dc890",
   "metadata": {},
   "outputs": [
    {
     "name": "stdout",
     "output_type": "stream",
     "text": [
      "Traza creada correctamente\n"
     ]
    }
   ],
   "source": [
    "a0 = FieldElement(2)\n",
    "a = [a0]\n",
    "\n",
    "for i in range(80):\n",
    "    a.append(a[-1]**2)\n",
    "\n",
    "#Algunos chequeos de la traza\n",
    "assert len(a) == 81\n",
    "assert a[0] == FieldElement(2)\n",
    "assert a[-1] == FieldElement(2)**(8**20)\n",
    "print(\"Traza creada correctamente\")"
   ]
  },
  {
   "cell_type": "markdown",
   "id": "da475e49",
   "metadata": {},
   "source": [
    "Similar a la estrategia anterior, necesitamos hallar un generador $g$ que nos permita generar un grupo de tamaño 81. \n",
    "\n",
    "Debemos hallar $k$ tal que:\n",
    "\n",
    "$\n",
    "81 = \\frac {|\\mathbb{F}^\\times|}{k} \\\\\n",
    "81 = \\frac{3221225472}{k} \\\\\n",
    "k = \\frac{3221225472}{81} = 39768215.703\n",
    "$\n",
    "\n",
    "Nuevamente, $k$ nos queda como un número decimal. Entonces, debemos buscar un número potencia de 2 más próximo a 81 (y más grande) tal que divida a 3221225472, es decir, 128, por eso lo fijamos como el tamaño de nuestro grupo y lo usamos para calcular $k$\n",
    "\n",
    "$\n",
    "128 = \\frac{3221225472}{k} \\\\\n",
    "k = \\frac{3221225472}{128} = 25165824\n",
    "$"
   ]
  },
  {
   "cell_type": "code",
   "execution_count": 14,
   "id": "634ce0e4",
   "metadata": {},
   "outputs": [],
   "source": [
    "generator = FieldElement.generator()\n",
    "g,G = get_group(generator,len(a))"
   ]
  },
  {
   "cell_type": "code",
   "execution_count": 15,
   "id": "ae46d0c7",
   "metadata": {},
   "outputs": [
    {
     "name": "stdout",
     "output_type": "stream",
     "text": [
      "Grupo generado correctamente\n"
     ]
    }
   ],
   "source": [
    "#Algunos chequeos del grupo generado\n",
    "assert g.is_order(128), print(\"El grupo no tiene orden 128\")\n",
    "assert G[-1]*g == FieldElement(1), print(\"No es ciclico\")\n",
    "print(\"Grupo generado correctamente\")"
   ]
  },
  {
   "cell_type": "markdown",
   "id": "d57eae0f",
   "metadata": {},
   "source": [
    "Obtenemos el polinomio de la traza interpolando los 81 puntos $(x_i,y_i)$ tales que:\n",
    "- $x_i$: es el elemento $i$ del grupo $G$ generado.\n",
    "- $y_i$: es el elemento $i$ de la traza"
   ]
  },
  {
   "cell_type": "code",
   "execution_count": 16,
   "id": "37c5a1a8",
   "metadata": {},
   "outputs": [],
   "source": [
    "from utils.polynomial import interpolate_poly\n",
    "f = interpolate_poly(G[:81],a)"
   ]
  },
  {
   "cell_type": "markdown",
   "id": "6e35947f",
   "metadata": {},
   "source": [
    "### Expansión\n",
    "El proceso de expansión es exactamente igual que en la estrategia anterior, solo cambia en que G tiene orden 128. Entonces creamos un grupo nuevo $H$ el cual será 8 veces más grande que $G$ y posteriormente, obtenemos el dominio de evaluación tal que\n",
    "\n",
    "$$eval\\_domain = \\{w\\cdot h^i | 0 \\leq i <1024  \\}$$"
   ]
  },
  {
   "cell_type": "code",
   "execution_count": 17,
   "id": "be614539",
   "metadata": {},
   "outputs": [],
   "source": [
    "#Obtenemos dominio de evaluacion\n",
    "eval_domain = expand_domain(len(G)*8)\n",
    "\n",
    "#Evaluamos en el polinomio de la traza\n",
    "f_eval = [f(x) for x in eval_domain]\n",
    "\n",
    "#Armamos el Merkle tree con las evaluaciones\n",
    "f_merkle = MerkleTree(f_eval)\n",
    "\n",
    "#Instanciamos un canal y enviamos la raíz del árbol\n",
    "channel = Channel()\n",
    "channel.send(f_merkle.root)"
   ]
  },
  {
   "cell_type": "markdown",
   "id": "83088f66",
   "metadata": {},
   "source": [
    "### Restricciones"
   ]
  },
  {
   "cell_type": "markdown",
   "id": "8b34f10e",
   "metadata": {},
   "source": [
    "Las primeras dos restricciones son iguales que en la primera estrategia, y la tercera tiene una leve variación:\n",
    "1. El primer elemento de la traza debe ser igual a $2$. Esto es $a[0] = 2$.\n",
    "2. El último elemento de la traza debe ser igual a $2^{8^{20}}$. Esto es $a[-1] = 2^{8^{20}} mod(p) = 1610563584$\n",
    "3. Se debe cumplir que $a[i] = a[i-1]^2$ para todo $1 \\leq i \\leq 80$\n",
    "\n",
    "<br>\n",
    "\n",
    "Podemos expresar estas restricciones en forma polinomial tal que:\n",
    "1. $f(x)-2$ que tiene como raíz $x=g^0=1$\n",
    "2. $f(x)-1610563584$ que tiene como raíz $x=g^{80}$\n",
    "3. $f(g·x) - f(x)^2$ que se anula cuando se evalua en $x$ tal que $x \\in G \\backslash \\{g^{i}|i \\geq 80\\}$\n",
    "\n",
    "<br>\n",
    "\n",
    "Luego, obtenemos las funciones racionales dividiendo las expresiones anteriores por $(x-x')$ tal que $x'$ es raíz de la función del numerador.\n",
    "\n",
    "#### Restricción 1\n",
    "$$\\frac{f(x)-2}{x-1}$$\n",
    "\n",
    "#### Restricción 2\n",
    "$$\\frac{f(x)-1610563584}{x-g^{80}}$$\n",
    "\n",
    "#### Restricción 3\n",
    "$$\\frac{f(g·x)-f(x)^2}{\\prod\\limits_{i=0}^{79} (x-g^i)}$$"
   ]
  },
  {
   "cell_type": "code",
   "execution_count": 18,
   "id": "d0378571",
   "metadata": {},
   "outputs": [],
   "source": [
    "from utils.polynomial import X, prod\n",
    "\n",
    "#Primera Restricción\n",
    "numer0 = f - 2\n",
    "denom0 = X - 1\n",
    "\n",
    "p0 = numer0 / denom0\n",
    "\n",
    "#Segunda Restricción\n",
    "numer1 = f - 1610563584\n",
    "denom1 = X - g**80\n",
    "\n",
    "p1 = numer1 / denom1"
   ]
  },
  {
   "cell_type": "markdown",
   "id": "1d389122",
   "metadata": {},
   "source": [
    "Similar a la anterior estrategia, para la tercera restricción, reescribimos el denominador aprovechando la propiedad:\n",
    "$$\\prod\\limits_{i=0}^{127} (x-g^i) = x^{128} - 1$$ "
   ]
  },
  {
   "cell_type": "code",
   "execution_count": 19,
   "id": "502caa91",
   "metadata": {},
   "outputs": [],
   "source": [
    "#Tercera Restricción\n",
    "from functools import reduce\n",
    "\n",
    "numer2 = f(g*X) - f**2\n",
    "#Cálculo de (X-g^80)*(X-g^81)*...*(X-g^127)\n",
    "r = reduce(lambda x, y: x * y, [(X-g**i) for i in range(80,128)])\n",
    "denom2 = ((X**128)-1)/r\n",
    "\n",
    "p2 = numer2/denom2"
   ]
  },
  {
   "cell_type": "markdown",
   "id": "fea8a536",
   "metadata": {},
   "source": [
    "### Combinación de polinomios\n",
    "\n",
    "De la mimsma forma, y utilizando las funciones definidas en la estrategia 1, realizando una combinación lineal de $p0$,$p1$,$p2$ obtenemos\n",
    "$$CP(x) = \\alpha_0 \\cdot p_0(x) + \\alpha_1 \\cdot p_1(x) + \\alpha_2 \\cdot  p_2(x)$$\n",
    "\n",
    "Luego, evaluaremos nuestro CP en `eval_domain`."
   ]
  },
  {
   "cell_type": "code",
   "execution_count": 20,
   "id": "f7f3ac80",
   "metadata": {},
   "outputs": [],
   "source": [
    "cp = get_CP(channel)\n",
    "cp_eval = CP_eval(cp, eval_domain)\n",
    "\n",
    "#Armamos el Merkle tree con las evaluaciones\n",
    "cp_merkle = MerkleTree(cp_eval)\n",
    "\n",
    "#Enviamos la raíz del árbol\n",
    "channel.send(cp_merkle.root)"
   ]
  },
  {
   "cell_type": "markdown",
   "id": "15dbdb88",
   "metadata": {},
   "source": [
    "### FRI\n",
    "\n",
    "El proceso de aplicar FRI es exactamente igual al realizado anteriormente en la primera estrategia, por lo que usamos las mismas funciones"
   ]
  },
  {
   "cell_type": "code",
   "execution_count": 21,
   "id": "07b24972",
   "metadata": {},
   "outputs": [],
   "source": [
    "fri_polys, fri_domains, fri_layers, fri_merkles = FriCommit(cp, eval_domain, cp_eval, cp_merkle, channel)"
   ]
  },
  {
   "cell_type": "markdown",
   "id": "87a50dab-f79e-47e9-8c6a-a6ba24436049",
   "metadata": {
    "tags": []
   },
   "source": [
    "## Estrategia 3: $a_0 = 2$ y $a_{2n+1}=a_{2n}^2$ y $a_{2n}=a_{2n-1}^4$"
   ]
  },
  {
   "cell_type": "markdown",
   "id": "69e2c6e4-405e-4b51-bf48-a550822d23d4",
   "metadata": {},
   "source": [
    "### Polinomio de la traza\n",
    "\n",
    "En primer lugar generamos la traza, donde $a_0 = 2$, y luego los elementos de índice impar se calcularán elevando al cuadrado el elemento anterior, mientras que los de índice par se calcularán elevando a la cuarta el anterior."
   ]
  },
  {
   "cell_type": "code",
   "execution_count": 22,
   "id": "29f18245-71c2-4369-a41f-428742bc6948",
   "metadata": {
    "tags": []
   },
   "outputs": [
    {
     "name": "stdout",
     "output_type": "stream",
     "text": [
      "El tamaño de la traza es: 20\n"
     ]
    }
   ],
   "source": [
    "a0 = FieldElement(2)\n",
    "a = [a0]\n",
    "i = 0\n",
    "while a[-1] != a0**(8**20):\n",
    "    i+=1\n",
    "    a.append(a[-1]**2) if i%2 else a.append(a[-1]**4)\n",
    "\n",
    "print(f\"El tamaño de la traza es: {len(a)}\")"
   ]
  },
  {
   "cell_type": "markdown",
   "id": "c408a2e2-f3fc-4101-aea4-bf439068fede",
   "metadata": {},
   "source": [
    "Ahora hallamos un generador $g$ que nos permita generar un grupo de tamaño 20. Para esto, necesitamos que el tamaño de $G$ sea de $32$ al igual que en la estrategia 1\n",
    "\n",
    "$\n",
    "32 = \\frac {|\\mathbb{F}^\\times|}{k} \\\\\n",
    "32 = \\frac{3221225472}{k} \\\\\n",
    "k = \\frac{3221225472}{32} = 100663296\n",
    "$"
   ]
  },
  {
   "cell_type": "code",
   "execution_count": 23,
   "id": "3c13fb7f-5e04-40c1-9e2d-d53f7b67b630",
   "metadata": {
    "tags": []
   },
   "outputs": [
    {
     "name": "stdout",
     "output_type": "stream",
     "text": [
      "Grupo generado correctamente\n"
     ]
    }
   ],
   "source": [
    "generator = FieldElement.generator()\n",
    "g,G = get_group(generator,len(a))\n",
    "\n",
    "#Algunos chequeos del grupo generado\n",
    "assert g.is_order(32), print(\"El grupo no tiene orden 32\")\n",
    "assert G[-1]*g == FieldElement(1), print(\"No es ciclico\")\n",
    "print(\"Grupo generado correctamente\")"
   ]
  },
  {
   "cell_type": "markdown",
   "id": "2f301d1f-e741-45aa-9105-52eb0bdfd723",
   "metadata": {},
   "source": [
    "Por último, para obtener el polinomio de la traza interpolamos los 20 puntos $(x_i,y_i)$ tal que:\n",
    "- $x_i$: es el elemento $i$ del grupo $G$ generado.\n",
    "- $y_i$: es el elemento $i$ de la traza"
   ]
  },
  {
   "cell_type": "code",
   "execution_count": 24,
   "id": "93d7844a-86d9-4edc-a0d5-68e3803d2af8",
   "metadata": {
    "tags": []
   },
   "outputs": [],
   "source": [
    "from utils.polynomial import interpolate_poly\n",
    "f = interpolate_poly(G[:len(a)],a)"
   ]
  },
  {
   "cell_type": "markdown",
   "id": "a2401e87-eff0-4a6a-893b-cb11c2586d70",
   "metadata": {},
   "source": [
    "### Expansión\n",
    "\n",
    "$$eval\\_domain = \\{w\\cdot h^i | 0 \\leq i <256  \\}$$"
   ]
  },
  {
   "cell_type": "code",
   "execution_count": 25,
   "id": "47f2a38d-ca37-4270-a447-ddd5521b64a8",
   "metadata": {
    "tags": []
   },
   "outputs": [],
   "source": [
    "#Obtenemos dominio de evaluacion\n",
    "eval_domain = expand_domain(len(G)*8)\n",
    "\n",
    "#Evaluamos en el polinomio de la traza\n",
    "f_eval = [f(x) for x in eval_domain]\n",
    "\n",
    "#Armamos el Merkle tree con las evaluaciones\n",
    "f_merkle = MerkleTree(f_eval)\n",
    "\n",
    "#Instanciamos un canal y enviamos la raíz del árbol\n",
    "channel = Channel()\n",
    "channel.send(f_merkle.root)"
   ]
  },
  {
   "cell_type": "markdown",
   "id": "586dd900-aef7-44d7-bb4f-55530ddf9754",
   "metadata": {},
   "source": [
    "### Restricciones"
   ]
  },
  {
   "cell_type": "markdown",
   "id": "1c27d7e2-1719-4dcb-acc3-31d1229074d1",
   "metadata": {},
   "source": [
    "Las primeras dos restricciones que fijan el valor del primer y último elemento de la traza se mantienen. Sin embargo, la restricción que determina el valor de los elementos intermedios ahora la vamos a dividir en dos: una para los valores de índice par y otra para los de índice impar.\n",
    "1. El primer elemento de la traza debe ser igual a $2$. Esto es $a[0] = 2$.\n",
    "2. El último elemento de la traza debe ser igual a $2^{8^{20}}$. Esto es $a[-1] = 2^{8^{20}} mod(p) = 1610563584$\n",
    "3. Se debe cumplir que $a[i] = a[i-1]^2$ para todo $i$ tal que $i=1 \\ mod(2)$ y $i < 19$\n",
    "4. Se debe cumplir que $a[i] = a[i-1]^4$ para todo $i$ tal que $i=0 \\ mod(2)$ y $i < 19$\n",
    "\n",
    "<br>\n",
    "\n",
    "Podemos expresar estas restricciones en forma polinomial tal que:\n",
    "1. $f(x)-2$ que tiene como raíz $x=g^0=1$\n",
    "2. $f(x)-1610563584$ que tiene como raíz $x=g^{19}$\n",
    "3. $f(g·x) - f(x)^2$ que se anula cuando se evalua en $x$ tal que $x \\in \\{g^i | i=0 \\ mod(2), i < 19 \\}$\n",
    "4. $f(g·x) - f(x)^4$ que se anula cuando se evalua en $x$ tal que $x \\in \\{g^i | i=1 \\ mod(2), i < 19 \\}$\n",
    "\n",
    "<br>\n",
    "\n",
    "Luego, obtenemos las funciones racionales dividiendo las expresiones anteriores por $(x-x')$ tal que $x'$ es raíz de la función del numerador.\n",
    "\n",
    "#### Restricción 1\n",
    "$$\\frac{f(x)-2}{x-1}$$\n",
    "\n",
    "#### Restricción 2\n",
    "$$\\frac{f(x)-1610563584}{x-g^{19}}$$\n",
    "\n",
    "#### Restricción 3\n",
    "$$\\frac{f(g·x)-f(x)^2}{\\prod\\limits_{n=0}^{9} (x-g^{2n})}$$\n",
    "\n",
    "#### Restricción 4\n",
    "$$\\frac{f(g·x)-f(x)^4}{\\prod\\limits_{n=0}^{8} (x-g^{2n+1})}$$"
   ]
  },
  {
   "cell_type": "code",
   "execution_count": 26,
   "id": "b4523074-7ee9-4a6f-b254-76ce233f0006",
   "metadata": {
    "tags": []
   },
   "outputs": [],
   "source": [
    "from utils.polynomial import X, prod\n",
    "\n",
    "#Primera Restricción\n",
    "numer0 = f - 2\n",
    "denom0 = X - 1\n",
    "\n",
    "p0 = numer0 / denom0\n",
    "\n",
    "#Segunda Restricción\n",
    "numer1 = f - 1610563584\n",
    "denom1 = X - g**19\n",
    "\n",
    "p1 = numer1 / denom1\n",
    "\n",
    "#Tercera Restricción\n",
    "numer2 = f(g*X) - f**2\n",
    "#Cálculo de (X-g^i) tal que i es par\n",
    "denom2 = reduce(lambda x, y: x * y, [(X-g**i) for i in range(0,19,2)])\n",
    "\n",
    "p2 = numer2/denom2\n",
    "\n",
    "#Cuarta Restricción\n",
    "numer3 = f(g*X) - f**4\n",
    "#Cálculo de (X-g^i) tal que i es impar\n",
    "denom3 = reduce(lambda x, y: x * y, [(X-g**i) for i in range(1,19,2)])\n",
    "\n",
    "p3 = numer3/denom3"
   ]
  },
  {
   "cell_type": "markdown",
   "id": "b79bb79e-e4e9-4826-aac2-d10e1cbca4cd",
   "metadata": {},
   "source": [
    "### Combinación de polinomios\n",
    "\n",
    "De la mimsma forma, y utilizando las funciones definidas en la estrategia 1, realizando una combinación lineal de $p0$,$p1$,$p2$,$p3$ obtenemos\n",
    "$$CP(x) = \\alpha_0 \\cdot p_0(x) + \\alpha_1 \\cdot p_1(x) + \\alpha_2 \\cdot  p_2(x) + \\alpha_3 \\cdot  p_3(x)$$\n",
    "\n",
    "Luego, evaluaremos nuestro CP en `eval_domain`."
   ]
  },
  {
   "cell_type": "code",
   "execution_count": 27,
   "id": "1aaae429-03da-4168-b216-6d7a5f55e049",
   "metadata": {},
   "outputs": [],
   "source": [
    "cp = get_CP(channel)\n",
    "cp_eval = CP_eval(cp, eval_domain)\n",
    "\n",
    "#Armamos el Merkle tree con las evaluaciones\n",
    "cp_merkle = MerkleTree(cp_eval)\n",
    "\n",
    "#Enviamos la raíz del árbol\n",
    "channel.send(cp_merkle.root)"
   ]
  },
  {
   "cell_type": "markdown",
   "id": "29c334e0-1248-4a61-a14c-a11d24f1038e",
   "metadata": {},
   "source": [
    "## Estrategia 4: Usar dos columnas"
   ]
  }
 ],
 "metadata": {
  "kernelspec": {
   "display_name": "Python 3 (ipykernel)",
   "language": "python",
   "name": "python3"
  },
  "language_info": {
   "codemirror_mode": {
    "name": "ipython",
    "version": 3
   },
   "file_extension": ".py",
   "mimetype": "text/x-python",
   "name": "python",
   "nbconvert_exporter": "python",
   "pygments_lexer": "ipython3",
   "version": "3.8.10"
  }
 },
 "nbformat": 4,
 "nbformat_minor": 5
}
